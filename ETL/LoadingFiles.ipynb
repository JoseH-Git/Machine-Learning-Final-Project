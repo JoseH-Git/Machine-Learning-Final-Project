{
 "cells": [
  {
   "cell_type": "markdown",
   "metadata": {},
   "source": [
    "# Extract, Transform and Load Spotify Data Set\n",
    "<hr>"
   ]
  },
  {
   "cell_type": "markdown",
   "metadata": {},
   "source": [
    "### Dependencies"
   ]
  },
  {
   "cell_type": "code",
   "execution_count": 108,
   "metadata": {},
   "outputs": [],
   "source": [
    "import pandas as pd\n",
    "import datetime as dt\n",
    "from sqlalchemy import create_engine\n",
    "import requests\n",
    "import pymongo\n",
    "from pymongo import MongoClient\n",
    "import json\n",
    "import numpy as np\n",
    "import dns\n",
    "\n",
    "pd.set_option('display.max_rows', None)\n",
    "pd.set_option('display.max_columns', None)\n",
    "pd.set_option('display.width', None)\n",
    "pd.set_option('display.max_colwidth', None)"
   ]
  },
  {
   "cell_type": "markdown",
   "metadata": {},
   "source": [
    "### Extract Data Set"
   ]
  },
  {
   "cell_type": "code",
   "execution_count": 114,
   "metadata": {
    "scrolled": true
   },
   "outputs": [],
   "source": [
    "path = \"../Resources/Variables19082.csv\"\n",
    "data = pd.read_csv(path)"
   ]
  },
  {
   "cell_type": "code",
   "execution_count": 115,
   "metadata": {},
   "outputs": [
    {
     "data": {
      "text/html": [
       "<div>\n",
       "<style scoped>\n",
       "    .dataframe tbody tr th:only-of-type {\n",
       "        vertical-align: middle;\n",
       "    }\n",
       "\n",
       "    .dataframe tbody tr th {\n",
       "        vertical-align: top;\n",
       "    }\n",
       "\n",
       "    .dataframe thead th {\n",
       "        text-align: right;\n",
       "    }\n",
       "</style>\n",
       "<table border=\"1\" class=\"dataframe\">\n",
       "  <thead>\n",
       "    <tr style=\"text-align: right;\">\n",
       "      <th></th>\n",
       "      <th>User</th>\n",
       "      <th>Emp_type</th>\n",
       "      <th>Gate</th>\n",
       "      <th>Gender</th>\n",
       "      <th>Department</th>\n",
       "      <th>Country</th>\n",
       "      <th>Function</th>\n",
       "      <th>Job_ control_point</th>\n",
       "      <th>Scale</th>\n",
       "      <th>Promotions</th>\n",
       "      <th>Intern_Asig</th>\n",
       "      <th>Age</th>\n",
       "      <th>Seniority</th>\n",
       "      <th>Dependents</th>\n",
       "      <th>Job Code</th>\n",
       "      <th>Comparatio</th>\n",
       "      <th>Status</th>\n",
       "    </tr>\n",
       "  </thead>\n",
       "  <tbody>\n",
       "    <tr>\n",
       "      <th>0</th>\n",
       "      <td>H238709</td>\n",
       "      <td>Regular employee</td>\n",
       "      <td>2</td>\n",
       "      <td>Male</td>\n",
       "      <td>G</td>\n",
       "      <td>India</td>\n",
       "      <td>Operations</td>\n",
       "      <td>F2-ESG</td>\n",
       "      <td>15</td>\n",
       "      <td>1</td>\n",
       "      <td>No</td>\n",
       "      <td>54</td>\n",
       "      <td>1</td>\n",
       "      <td>4</td>\n",
       "      <td>PF10</td>\n",
       "      <td>1.155543</td>\n",
       "      <td>Active</td>\n",
       "    </tr>\n",
       "    <tr>\n",
       "      <th>1</th>\n",
       "      <td>HBAO258</td>\n",
       "      <td>Regular employee</td>\n",
       "      <td>2</td>\n",
       "      <td>Male</td>\n",
       "      <td>C</td>\n",
       "      <td>Thailand</td>\n",
       "      <td>Operations</td>\n",
       "      <td>H2-ESG</td>\n",
       "      <td>21</td>\n",
       "      <td>2</td>\n",
       "      <td>No</td>\n",
       "      <td>47</td>\n",
       "      <td>26</td>\n",
       "      <td>1</td>\n",
       "      <td>PC11</td>\n",
       "      <td>1.212336</td>\n",
       "      <td>Active</td>\n",
       "    </tr>\n",
       "    <tr>\n",
       "      <th>2</th>\n",
       "      <td>HBAR605</td>\n",
       "      <td>CommuterOut-Halco</td>\n",
       "      <td>2</td>\n",
       "      <td>Male</td>\n",
       "      <td>C</td>\n",
       "      <td>Brunei</td>\n",
       "      <td>Operations</td>\n",
       "      <td>F2-ESG</td>\n",
       "      <td>15</td>\n",
       "      <td>3</td>\n",
       "      <td>Yes</td>\n",
       "      <td>47</td>\n",
       "      <td>24</td>\n",
       "      <td>0</td>\n",
       "      <td>PC10</td>\n",
       "      <td>0.702072</td>\n",
       "      <td>Active</td>\n",
       "    </tr>\n",
       "    <tr>\n",
       "      <th>3</th>\n",
       "      <td>HBAO792</td>\n",
       "      <td>Regular employee</td>\n",
       "      <td>1</td>\n",
       "      <td>Male</td>\n",
       "      <td>G</td>\n",
       "      <td>Brunei</td>\n",
       "      <td>Operations</td>\n",
       "      <td>C1-ESG</td>\n",
       "      <td>4</td>\n",
       "      <td>1</td>\n",
       "      <td>Yes</td>\n",
       "      <td>47</td>\n",
       "      <td>27</td>\n",
       "      <td>0</td>\n",
       "      <td>PS03</td>\n",
       "      <td>1.366488</td>\n",
       "      <td>Active</td>\n",
       "    </tr>\n",
       "    <tr>\n",
       "      <th>4</th>\n",
       "      <td>HBAO783</td>\n",
       "      <td>Regular employee</td>\n",
       "      <td>2</td>\n",
       "      <td>Male</td>\n",
       "      <td>D</td>\n",
       "      <td>Brunei</td>\n",
       "      <td>Operations</td>\n",
       "      <td>E2-ESG</td>\n",
       "      <td>11</td>\n",
       "      <td>1</td>\n",
       "      <td>Yes</td>\n",
       "      <td>48</td>\n",
       "      <td>25</td>\n",
       "      <td>4</td>\n",
       "      <td>CC06</td>\n",
       "      <td>1.276654</td>\n",
       "      <td>Active</td>\n",
       "    </tr>\n",
       "  </tbody>\n",
       "</table>\n",
       "</div>"
      ],
      "text/plain": [
       "      User           Emp_type  Gate Gender Department   Country    Function  \\\n",
       "0  H238709   Regular employee     2   Male          G     India  Operations   \n",
       "1  HBAO258   Regular employee     2   Male          C  Thailand  Operations   \n",
       "2  HBAR605  CommuterOut-Halco     2   Male          C    Brunei  Operations   \n",
       "3  HBAO792   Regular employee     1   Male          G    Brunei  Operations   \n",
       "4  HBAO783   Regular employee     2   Male          D    Brunei  Operations   \n",
       "\n",
       "  Job_ control_point  Scale  Promotions Intern_Asig  Age  Seniority  \\\n",
       "0             F2-ESG     15           1          No   54          1   \n",
       "1             H2-ESG     21           2          No   47         26   \n",
       "2             F2-ESG     15           3         Yes   47         24   \n",
       "3             C1-ESG      4           1         Yes   47         27   \n",
       "4             E2-ESG     11           1         Yes   48         25   \n",
       "\n",
       "   Dependents Job Code  Comparatio  Status  \n",
       "0           4     PF10    1.155543  Active  \n",
       "1           1     PC11    1.212336  Active  \n",
       "2           0     PC10    0.702072  Active  \n",
       "3           0     PS03    1.366488  Active  \n",
       "4           4     CC06    1.276654  Active  "
      ]
     },
     "execution_count": 115,
     "metadata": {},
     "output_type": "execute_result"
    }
   ],
   "source": [
    "data.head(5)"
   ]
  },
  {
   "cell_type": "markdown",
   "metadata": {},
   "source": [
    "### Transform "
   ]
  },
  {
   "cell_type": "code",
   "execution_count": 116,
   "metadata": {},
   "outputs": [
    {
     "name": "stdout",
     "output_type": "stream",
     "text": [
      "We have a total of 1235 rows in the data set\n"
     ]
    }
   ],
   "source": [
    "print(\"We have a total of \" + str(len(data)) + \" rows in the data set\")"
   ]
  },
  {
   "cell_type": "code",
   "execution_count": 117,
   "metadata": {},
   "outputs": [
    {
     "data": {
      "text/plain": [
       "User                   object\n",
       "Emp_type               object\n",
       "Gate                    int64\n",
       "Gender                 object\n",
       "Department             object\n",
       "Country                object\n",
       "Function               object\n",
       "Job_ control_point     object\n",
       "Scale                   int64\n",
       "Promotions              int64\n",
       "Intern_Asig            object\n",
       "Age                     int64\n",
       "Seniority               int64\n",
       "Dependents              int64\n",
       "Job Code               object\n",
       "Comparatio            float64\n",
       "Status                 object\n",
       "dtype: object"
      ]
     },
     "execution_count": 117,
     "metadata": {},
     "output_type": "execute_result"
    }
   ],
   "source": [
    "data.dtypes"
   ]
  },
  {
   "cell_type": "markdown",
   "metadata": {},
   "source": [
    "### Change date type from obj to float"
   ]
  },
  {
   "cell_type": "code",
   "execution_count": 26,
   "metadata": {},
   "outputs": [],
   "source": [
    "# data[\"Date\"] = pd.to_datetime(spotify_data[\"Date\"], format=\"%m/%d/%Y\")"
   ]
  },
  {
   "cell_type": "code",
   "execution_count": 29,
   "metadata": {},
   "outputs": [],
   "source": [
    "# data.dtypes"
   ]
  },
  {
   "cell_type": "markdown",
   "metadata": {},
   "source": [
    "### Verify NAs and kill them all"
   ]
  },
  {
   "cell_type": "code",
   "execution_count": 84,
   "metadata": {},
   "outputs": [
    {
     "data": {
      "text/plain": [
       "False    1235\n",
       "Name: User, dtype: int64"
      ]
     },
     "execution_count": 84,
     "metadata": {},
     "output_type": "execute_result"
    }
   ],
   "source": [
    "data[\"User\"].isna().value_counts()"
   ]
  },
  {
   "cell_type": "code",
   "execution_count": 85,
   "metadata": {},
   "outputs": [
    {
     "data": {
      "text/plain": [
       "False    1235\n",
       "Name: User, dtype: int64"
      ]
     },
     "execution_count": 85,
     "metadata": {},
     "output_type": "execute_result"
    }
   ],
   "source": [
    "data_wNA = data.dropna()\n",
    "data_wNA[\"User\"].isna().value_counts()"
   ]
  },
  {
   "cell_type": "markdown",
   "metadata": {},
   "source": [
    "## Load Final HHRR Data Base to MongoDB"
   ]
  },
  {
   "cell_type": "code",
   "execution_count": 103,
   "metadata": {},
   "outputs": [
    {
     "name": "stdout",
     "output_type": "stream",
     "text": [
      "Requirement already satisfied: dnspython in c:\\users\\joses\\anaconda3\\envs\\pythondata\\lib\\site-packages (1.16.0)Note: you may need to restart the kernel to use updated packages.\n",
      "\n"
     ]
    }
   ],
   "source": [
    "pip install dnspython"
   ]
  },
  {
   "cell_type": "markdown",
   "metadata": {},
   "source": [
    "### Loading Employees Table"
   ]
  },
  {
   "cell_type": "code",
   "execution_count": 106,
   "metadata": {},
   "outputs": [],
   "source": [
    "# Initialize PyMongo to work with MongoDBs\n",
    "conn = 'mongodb://localhost:27017'\n",
    "client = pymongo.MongoClient(conn)\n",
    "\n",
    "# Define database and collection\n",
    "db = client.HHRRdb\n",
    "collection = db.Employees\n",
    "collection.drop()\n",
    "\n",
    "\n",
    "rows=len(data_wNA)\n",
    "data=data_wNA\n",
    "hhrr_dict={}\n",
    "x=0\n",
    "\n",
    "for row in range(0,rows):\n",
    "        \n",
    "    hhrr_dict={'User':data.iloc[row,0],\n",
    "           'Emp_type':data.iloc[row,1],\n",
    "                   'Gate':data.iloc[row,2].astype(float),\n",
    "                 'Gender':data.iloc[row,3],\n",
    "             'Department':data.iloc[row,4],\n",
    "                'Country':data.iloc[row,5],\n",
    "         'Hyper_function':data.iloc[row,6],\n",
    "     'Job_ control_point':data.iloc[row,7],\n",
    "                  'Scale':data.iloc[row,8].astype(float),\n",
    "             'Promotions':data.iloc[row,9].astype(float),\n",
    "     'International Asig':data.iloc[row,10],\n",
    "                    'Age':data.iloc[row,11].astype(float), \n",
    "              'Seniority':data.iloc[row,12].astype(float), \n",
    "             'Dependants':data.iloc[row,13].astype(float), \n",
    "               'Job Code':data.iloc[row,14],\n",
    "            'Comparation':data.iloc[row,15].astype(float),\n",
    "              }\n",
    "    \n",
    "    collection.insert_one(hhrr_dict)"
   ]
  },
  {
   "cell_type": "code",
   "execution_count": 107,
   "metadata": {},
   "outputs": [],
   "source": [
    "#pip install pymongo[srv]"
   ]
  }
 ],
 "metadata": {
  "kernelspec": {
   "display_name": "Python [conda env:PythonData] *",
   "language": "python",
   "name": "conda-env-PythonData-py"
  },
  "language_info": {
   "codemirror_mode": {
    "name": "ipython",
    "version": 3
   },
   "file_extension": ".py",
   "mimetype": "text/x-python",
   "name": "python",
   "nbconvert_exporter": "python",
   "pygments_lexer": "ipython3",
   "version": "3.6.10"
  }
 },
 "nbformat": 4,
 "nbformat_minor": 4
}
