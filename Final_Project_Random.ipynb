{
 "cells": [
  {
   "cell_type": "code",
   "execution_count": 1,
   "metadata": {
    "id": "vF7PefIJni45"
   },
   "outputs": [],
   "source": [
    "#import the libraries\n",
    "import numpy as np\n",
    "import pandas as pd\n",
    "import seaborn as sns"
   ]
  },
  {
   "cell_type": "code",
   "execution_count": 2,
   "metadata": {
    "colab": {
     "base_uri": "https://localhost:8080/",
     "height": 404
    },
    "id": "XG6pNOyPpi-d",
    "outputId": "15df01d7-243e-44e9-a67c-62a44b0f9512"
   },
   "outputs": [
    {
     "data": {
      "text/html": [
       "<div>\n",
       "<style scoped>\n",
       "    .dataframe tbody tr th:only-of-type {\n",
       "        vertical-align: middle;\n",
       "    }\n",
       "\n",
       "    .dataframe tbody tr th {\n",
       "        vertical-align: top;\n",
       "    }\n",
       "\n",
       "    .dataframe thead th {\n",
       "        text-align: right;\n",
       "    }\n",
       "</style>\n",
       "<table border=\"1\" class=\"dataframe\">\n",
       "  <thead>\n",
       "    <tr style=\"text-align: right;\">\n",
       "      <th></th>\n",
       "      <th>User</th>\n",
       "      <th>Emp_type</th>\n",
       "      <th>Gate</th>\n",
       "      <th>Gender</th>\n",
       "      <th>Department</th>\n",
       "      <th>Country</th>\n",
       "      <th>Function</th>\n",
       "      <th>control_point</th>\n",
       "      <th>Scale</th>\n",
       "      <th>Promotions</th>\n",
       "      <th>Intern_Asig</th>\n",
       "      <th>Age</th>\n",
       "      <th>Seniority</th>\n",
       "      <th>Dependents</th>\n",
       "      <th>Job_Code</th>\n",
       "      <th>Comparatio</th>\n",
       "      <th>Status</th>\n",
       "    </tr>\n",
       "  </thead>\n",
       "  <tbody>\n",
       "    <tr>\n",
       "      <th>0</th>\n",
       "      <td>HB12545</td>\n",
       "      <td>3</td>\n",
       "      <td>2</td>\n",
       "      <td>0</td>\n",
       "      <td>H</td>\n",
       "      <td>7</td>\n",
       "      <td>1</td>\n",
       "      <td>H3-ESG</td>\n",
       "      <td>22</td>\n",
       "      <td>1</td>\n",
       "      <td>1</td>\n",
       "      <td>41</td>\n",
       "      <td>12</td>\n",
       "      <td>3</td>\n",
       "      <td>LG136</td>\n",
       "      <td>1.002678</td>\n",
       "      <td>1</td>\n",
       "    </tr>\n",
       "    <tr>\n",
       "      <th>1</th>\n",
       "      <td>HB75352</td>\n",
       "      <td>4</td>\n",
       "      <td>1</td>\n",
       "      <td>1</td>\n",
       "      <td>H</td>\n",
       "      <td>7</td>\n",
       "      <td>1</td>\n",
       "      <td>G3-ESG</td>\n",
       "      <td>19</td>\n",
       "      <td>1</td>\n",
       "      <td>1</td>\n",
       "      <td>35</td>\n",
       "      <td>9</td>\n",
       "      <td>0</td>\n",
       "      <td>LG137</td>\n",
       "      <td>0.740286</td>\n",
       "      <td>1</td>\n",
       "    </tr>\n",
       "    <tr>\n",
       "      <th>2</th>\n",
       "      <td>HBL2866</td>\n",
       "      <td>4</td>\n",
       "      <td>2</td>\n",
       "      <td>0</td>\n",
       "      <td>H</td>\n",
       "      <td>9</td>\n",
       "      <td>1</td>\n",
       "      <td>J2-ESG</td>\n",
       "      <td>27</td>\n",
       "      <td>1</td>\n",
       "      <td>1</td>\n",
       "      <td>47</td>\n",
       "      <td>4</td>\n",
       "      <td>4</td>\n",
       "      <td>LG135</td>\n",
       "      <td>1.184889</td>\n",
       "      <td>1</td>\n",
       "    </tr>\n",
       "    <tr>\n",
       "      <th>3</th>\n",
       "      <td>HBL5538</td>\n",
       "      <td>4</td>\n",
       "      <td>2</td>\n",
       "      <td>0</td>\n",
       "      <td>H</td>\n",
       "      <td>9</td>\n",
       "      <td>1</td>\n",
       "      <td>J2-ESG</td>\n",
       "      <td>27</td>\n",
       "      <td>1</td>\n",
       "      <td>1</td>\n",
       "      <td>42</td>\n",
       "      <td>14</td>\n",
       "      <td>4</td>\n",
       "      <td>LG135</td>\n",
       "      <td>1.329917</td>\n",
       "      <td>1</td>\n",
       "    </tr>\n",
       "    <tr>\n",
       "      <th>4</th>\n",
       "      <td>H117555</td>\n",
       "      <td>4</td>\n",
       "      <td>1</td>\n",
       "      <td>0</td>\n",
       "      <td>H</td>\n",
       "      <td>9</td>\n",
       "      <td>1</td>\n",
       "      <td>G3-ESG</td>\n",
       "      <td>19</td>\n",
       "      <td>2</td>\n",
       "      <td>1</td>\n",
       "      <td>36</td>\n",
       "      <td>7</td>\n",
       "      <td>4</td>\n",
       "      <td>LG137</td>\n",
       "      <td>1.144653</td>\n",
       "      <td>1</td>\n",
       "    </tr>\n",
       "    <tr>\n",
       "      <th>5</th>\n",
       "      <td>H153645</td>\n",
       "      <td>4</td>\n",
       "      <td>2</td>\n",
       "      <td>0</td>\n",
       "      <td>H</td>\n",
       "      <td>10</td>\n",
       "      <td>1</td>\n",
       "      <td>H3-ESG</td>\n",
       "      <td>22</td>\n",
       "      <td>1</td>\n",
       "      <td>0</td>\n",
       "      <td>35</td>\n",
       "      <td>6</td>\n",
       "      <td>0</td>\n",
       "      <td>LG136</td>\n",
       "      <td>0.663574</td>\n",
       "      <td>1</td>\n",
       "    </tr>\n",
       "    <tr>\n",
       "      <th>6</th>\n",
       "      <td>H158183</td>\n",
       "      <td>4</td>\n",
       "      <td>2</td>\n",
       "      <td>0</td>\n",
       "      <td>H</td>\n",
       "      <td>10</td>\n",
       "      <td>1</td>\n",
       "      <td>J2-ESG</td>\n",
       "      <td>27</td>\n",
       "      <td>2</td>\n",
       "      <td>0</td>\n",
       "      <td>35</td>\n",
       "      <td>6</td>\n",
       "      <td>0</td>\n",
       "      <td>LG135</td>\n",
       "      <td>0.559739</td>\n",
       "      <td>1</td>\n",
       "    </tr>\n",
       "  </tbody>\n",
       "</table>\n",
       "</div>"
      ],
      "text/plain": [
       "      User  Emp_type  Gate  Gender Department  Country  Function  \\\n",
       "0  HB12545         3     2       0          H        7         1   \n",
       "1  HB75352         4     1       1          H        7         1   \n",
       "2  HBL2866         4     2       0          H        9         1   \n",
       "3  HBL5538         4     2       0          H        9         1   \n",
       "4  H117555         4     1       0          H        9         1   \n",
       "5  H153645         4     2       0          H       10         1   \n",
       "6  H158183         4     2       0          H       10         1   \n",
       "\n",
       "  control_point  Scale  Promotions  Intern_Asig  Age  Seniority  Dependents  \\\n",
       "0        H3-ESG     22           1            1   41         12           3   \n",
       "1        G3-ESG     19           1            1   35          9           0   \n",
       "2        J2-ESG     27           1            1   47          4           4   \n",
       "3        J2-ESG     27           1            1   42         14           4   \n",
       "4        G3-ESG     19           2            1   36          7           4   \n",
       "5        H3-ESG     22           1            0   35          6           0   \n",
       "6        J2-ESG     27           2            0   35          6           0   \n",
       "\n",
       "  Job_Code  Comparatio  Status  \n",
       "0    LG136    1.002678       1  \n",
       "1    LG137    0.740286       1  \n",
       "2    LG135    1.184889       1  \n",
       "3    LG135    1.329917       1  \n",
       "4    LG137    1.144653       1  \n",
       "5    LG136    0.663574       1  \n",
       "6    LG135    0.559739       1  "
      ]
     },
     "execution_count": 2,
     "metadata": {},
     "output_type": "execute_result"
    }
   ],
   "source": [
    "#store the data into a data frame\n",
    "df = pd.read_csv('Variables19082ll.csv')\n",
    "\n",
    "#Print the first 7 rows of data\n",
    "df.head(7)"
   ]
  },
  {
   "cell_type": "code",
   "execution_count": 3,
   "metadata": {
    "colab": {
     "base_uri": "https://localhost:8080/"
    },
    "id": "CeprdBPnqFvI",
    "outputId": "80ed7b14-f2df-4116-c202-8d3ec647fda9"
   },
   "outputs": [
    {
     "data": {
      "text/plain": [
       "(1234, 17)"
      ]
     },
     "execution_count": 3,
     "metadata": {},
     "output_type": "execute_result"
    }
   ],
   "source": [
    "#Get the number of rows and cols\n",
    "df.shape"
   ]
  },
  {
   "cell_type": "code",
   "execution_count": 4,
   "metadata": {
    "colab": {
     "base_uri": "https://localhost:8080/"
    },
    "id": "cMJsVrphqjpe",
    "outputId": "7940ca3e-7965-4332-e8ba-7b8e928cbb31"
   },
   "outputs": [
    {
     "data": {
      "text/plain": [
       "User              object\n",
       "Emp_type           int64\n",
       "Gate               int64\n",
       "Gender             int64\n",
       "Department        object\n",
       "Country            int64\n",
       "Function           int64\n",
       "control_point     object\n",
       "Scale              int64\n",
       "Promotions         int64\n",
       "Intern_Asig        int64\n",
       "Age                int64\n",
       "Seniority          int64\n",
       "Dependents         int64\n",
       "Job_Code          object\n",
       "Comparatio       float64\n",
       "Status             int64\n",
       "dtype: object"
      ]
     },
     "execution_count": 4,
     "metadata": {},
     "output_type": "execute_result"
    }
   ],
   "source": [
    "#Get the colun data types\n",
    "df.dtypes"
   ]
  },
  {
   "cell_type": "code",
   "execution_count": 5,
   "metadata": {
    "colab": {
     "base_uri": "https://localhost:8080/"
    },
    "id": "HvbS39eWqtrV",
    "outputId": "47562353-0589-45c5-e774-c6f5d11beebb"
   },
   "outputs": [
    {
     "data": {
      "text/plain": [
       "User             0\n",
       "Emp_type         0\n",
       "Gate             0\n",
       "Gender           0\n",
       "Department       0\n",
       "Country          0\n",
       "Function         0\n",
       "control_point    0\n",
       "Scale            0\n",
       "Promotions       0\n",
       "Intern_Asig      0\n",
       "Age              0\n",
       "Seniority        0\n",
       "Dependents       0\n",
       "Job_Code         0\n",
       "Comparatio       0\n",
       "Status           0\n",
       "dtype: int64"
      ]
     },
     "execution_count": 5,
     "metadata": {},
     "output_type": "execute_result"
    }
   ],
   "source": [
    "#Get a count of the empty values for each column\n",
    "df.isna().sum()"
   ]
  },
  {
   "cell_type": "code",
   "execution_count": 6,
   "metadata": {
    "colab": {
     "base_uri": "https://localhost:8080/"
    },
    "id": "NMIJIMZvq6wN",
    "outputId": "7f2c6f40-a595-4aa1-a43a-4136b4c197a2"
   },
   "outputs": [
    {
     "data": {
      "text/plain": [
       "False"
      ]
     },
     "execution_count": 6,
     "metadata": {},
     "output_type": "execute_result"
    }
   ],
   "source": [
    "# Check for any missing /null values\n",
    "df.isnull().values.any()"
   ]
  },
  {
   "cell_type": "code",
   "execution_count": 7,
   "metadata": {
    "colab": {
     "base_uri": "https://localhost:8080/",
     "height": 297
    },
    "id": "TN4XY_bNrLYK",
    "outputId": "95b8df02-91c5-4b93-b9c2-b1143bf547d2"
   },
   "outputs": [
    {
     "data": {
      "text/html": [
       "<div>\n",
       "<style scoped>\n",
       "    .dataframe tbody tr th:only-of-type {\n",
       "        vertical-align: middle;\n",
       "    }\n",
       "\n",
       "    .dataframe tbody tr th {\n",
       "        vertical-align: top;\n",
       "    }\n",
       "\n",
       "    .dataframe thead th {\n",
       "        text-align: right;\n",
       "    }\n",
       "</style>\n",
       "<table border=\"1\" class=\"dataframe\">\n",
       "  <thead>\n",
       "    <tr style=\"text-align: right;\">\n",
       "      <th></th>\n",
       "      <th>Emp_type</th>\n",
       "      <th>Gate</th>\n",
       "      <th>Gender</th>\n",
       "      <th>Country</th>\n",
       "      <th>Function</th>\n",
       "      <th>Scale</th>\n",
       "      <th>Promotions</th>\n",
       "      <th>Intern_Asig</th>\n",
       "      <th>Age</th>\n",
       "      <th>Seniority</th>\n",
       "      <th>Dependents</th>\n",
       "      <th>Comparatio</th>\n",
       "      <th>Status</th>\n",
       "    </tr>\n",
       "  </thead>\n",
       "  <tbody>\n",
       "    <tr>\n",
       "      <th>count</th>\n",
       "      <td>1234.000000</td>\n",
       "      <td>1234.000000</td>\n",
       "      <td>1234.000000</td>\n",
       "      <td>1234.000000</td>\n",
       "      <td>1234.000000</td>\n",
       "      <td>1234.000000</td>\n",
       "      <td>1234.000000</td>\n",
       "      <td>1234.000000</td>\n",
       "      <td>1234.000000</td>\n",
       "      <td>1234.000000</td>\n",
       "      <td>1234.000000</td>\n",
       "      <td>1234.000000</td>\n",
       "      <td>1234.000000</td>\n",
       "    </tr>\n",
       "    <tr>\n",
       "      <th>mean</th>\n",
       "      <td>3.786062</td>\n",
       "      <td>1.969206</td>\n",
       "      <td>0.093193</td>\n",
       "      <td>8.800648</td>\n",
       "      <td>3.326580</td>\n",
       "      <td>15.868720</td>\n",
       "      <td>1.976499</td>\n",
       "      <td>0.380875</td>\n",
       "      <td>35.263371</td>\n",
       "      <td>6.089141</td>\n",
       "      <td>1.283630</td>\n",
       "      <td>0.936022</td>\n",
       "      <td>0.760940</td>\n",
       "    </tr>\n",
       "    <tr>\n",
       "      <th>std</th>\n",
       "      <td>0.672433</td>\n",
       "      <td>1.038133</td>\n",
       "      <td>0.290820</td>\n",
       "      <td>1.504511</td>\n",
       "      <td>0.722362</td>\n",
       "      <td>6.683842</td>\n",
       "      <td>1.095711</td>\n",
       "      <td>0.485799</td>\n",
       "      <td>7.026852</td>\n",
       "      <td>5.568871</td>\n",
       "      <td>1.390131</td>\n",
       "      <td>0.279016</td>\n",
       "      <td>0.426682</td>\n",
       "    </tr>\n",
       "    <tr>\n",
       "      <th>min</th>\n",
       "      <td>1.000000</td>\n",
       "      <td>1.000000</td>\n",
       "      <td>0.000000</td>\n",
       "      <td>0.000000</td>\n",
       "      <td>1.000000</td>\n",
       "      <td>4.000000</td>\n",
       "      <td>1.000000</td>\n",
       "      <td>0.000000</td>\n",
       "      <td>21.000000</td>\n",
       "      <td>0.000000</td>\n",
       "      <td>0.000000</td>\n",
       "      <td>0.035880</td>\n",
       "      <td>0.000000</td>\n",
       "    </tr>\n",
       "    <tr>\n",
       "      <th>25%</th>\n",
       "      <td>4.000000</td>\n",
       "      <td>1.000000</td>\n",
       "      <td>0.000000</td>\n",
       "      <td>8.000000</td>\n",
       "      <td>3.000000</td>\n",
       "      <td>8.000000</td>\n",
       "      <td>1.000000</td>\n",
       "      <td>0.000000</td>\n",
       "      <td>30.000000</td>\n",
       "      <td>1.000000</td>\n",
       "      <td>0.000000</td>\n",
       "      <td>0.732393</td>\n",
       "      <td>1.000000</td>\n",
       "    </tr>\n",
       "    <tr>\n",
       "      <th>50%</th>\n",
       "      <td>4.000000</td>\n",
       "      <td>2.000000</td>\n",
       "      <td>0.000000</td>\n",
       "      <td>9.000000</td>\n",
       "      <td>3.000000</td>\n",
       "      <td>19.000000</td>\n",
       "      <td>2.000000</td>\n",
       "      <td>0.000000</td>\n",
       "      <td>34.000000</td>\n",
       "      <td>6.000000</td>\n",
       "      <td>1.000000</td>\n",
       "      <td>1.000000</td>\n",
       "      <td>1.000000</td>\n",
       "    </tr>\n",
       "    <tr>\n",
       "      <th>75%</th>\n",
       "      <td>4.000000</td>\n",
       "      <td>2.000000</td>\n",
       "      <td>0.000000</td>\n",
       "      <td>10.000000</td>\n",
       "      <td>4.000000</td>\n",
       "      <td>20.000000</td>\n",
       "      <td>3.000000</td>\n",
       "      <td>1.000000</td>\n",
       "      <td>39.000000</td>\n",
       "      <td>9.000000</td>\n",
       "      <td>2.000000</td>\n",
       "      <td>1.030632</td>\n",
       "      <td>1.000000</td>\n",
       "    </tr>\n",
       "    <tr>\n",
       "      <th>max</th>\n",
       "      <td>4.000000</td>\n",
       "      <td>6.000000</td>\n",
       "      <td>1.000000</td>\n",
       "      <td>10.000000</td>\n",
       "      <td>4.000000</td>\n",
       "      <td>30.000000</td>\n",
       "      <td>7.000000</td>\n",
       "      <td>1.000000</td>\n",
       "      <td>68.000000</td>\n",
       "      <td>40.000000</td>\n",
       "      <td>6.000000</td>\n",
       "      <td>2.978723</td>\n",
       "      <td>1.000000</td>\n",
       "    </tr>\n",
       "  </tbody>\n",
       "</table>\n",
       "</div>"
      ],
      "text/plain": [
       "          Emp_type         Gate       Gender      Country     Function  \\\n",
       "count  1234.000000  1234.000000  1234.000000  1234.000000  1234.000000   \n",
       "mean      3.786062     1.969206     0.093193     8.800648     3.326580   \n",
       "std       0.672433     1.038133     0.290820     1.504511     0.722362   \n",
       "min       1.000000     1.000000     0.000000     0.000000     1.000000   \n",
       "25%       4.000000     1.000000     0.000000     8.000000     3.000000   \n",
       "50%       4.000000     2.000000     0.000000     9.000000     3.000000   \n",
       "75%       4.000000     2.000000     0.000000    10.000000     4.000000   \n",
       "max       4.000000     6.000000     1.000000    10.000000     4.000000   \n",
       "\n",
       "             Scale   Promotions  Intern_Asig          Age    Seniority  \\\n",
       "count  1234.000000  1234.000000  1234.000000  1234.000000  1234.000000   \n",
       "mean     15.868720     1.976499     0.380875    35.263371     6.089141   \n",
       "std       6.683842     1.095711     0.485799     7.026852     5.568871   \n",
       "min       4.000000     1.000000     0.000000    21.000000     0.000000   \n",
       "25%       8.000000     1.000000     0.000000    30.000000     1.000000   \n",
       "50%      19.000000     2.000000     0.000000    34.000000     6.000000   \n",
       "75%      20.000000     3.000000     1.000000    39.000000     9.000000   \n",
       "max      30.000000     7.000000     1.000000    68.000000    40.000000   \n",
       "\n",
       "        Dependents   Comparatio       Status  \n",
       "count  1234.000000  1234.000000  1234.000000  \n",
       "mean      1.283630     0.936022     0.760940  \n",
       "std       1.390131     0.279016     0.426682  \n",
       "min       0.000000     0.035880     0.000000  \n",
       "25%       0.000000     0.732393     1.000000  \n",
       "50%       1.000000     1.000000     1.000000  \n",
       "75%       2.000000     1.030632     1.000000  \n",
       "max       6.000000     2.978723     1.000000  "
      ]
     },
     "execution_count": 7,
     "metadata": {},
     "output_type": "execute_result"
    }
   ],
   "source": [
    "df.describe()"
   ]
  },
  {
   "cell_type": "code",
   "execution_count": 8,
   "metadata": {
    "colab": {
     "base_uri": "https://localhost:8080/"
    },
    "id": "6q8HT9EnrWex",
    "outputId": "e027028d-90d5-4697-afb0-ddd80641facc"
   },
   "outputs": [
    {
     "data": {
      "text/plain": [
       "1    939\n",
       "0    295\n",
       "Name: Status, dtype: int64"
      ]
     },
     "execution_count": 8,
     "metadata": {},
     "output_type": "execute_result"
    }
   ],
   "source": [
    "#Get a count of the number of employees that stayed and left the company\n",
    "df['Status'].value_counts()"
   ]
  },
  {
   "cell_type": "code",
   "execution_count": 9,
   "metadata": {
    "colab": {
     "base_uri": "https://localhost:8080/"
    },
    "id": "Jjz70fypf7Kx",
    "outputId": "08cf9196-1f65-4361-ba9d-eeb654010b87"
   },
   "outputs": [
    {
     "name": "stdout",
     "output_type": "stream",
     "text": [
      "Requirement already satisfied: imbalanced-learn in c:\\users\\hb16584\\anaconda3\\envs\\myenvtec\\lib\\site-packages (0.8.0)Note: you may need to restart the kernel to use updated packages.\n",
      "\n",
      "Requirement already satisfied: joblib>=0.11 in c:\\users\\hb16584\\anaconda3\\envs\\myenvtec\\lib\\site-packages (from imbalanced-learn) (1.0.1)\n",
      "Requirement already satisfied: scikit-learn>=0.24 in c:\\users\\hb16584\\anaconda3\\envs\\myenvtec\\lib\\site-packages (from imbalanced-learn) (0.24.2)\n",
      "Requirement already satisfied: scipy>=0.19.1 in c:\\users\\hb16584\\anaconda3\\envs\\myenvtec\\lib\\site-packages (from imbalanced-learn) (1.5.0)\n",
      "Requirement already satisfied: numpy>=1.13.3 in c:\\users\\hb16584\\anaconda3\\envs\\myenvtec\\lib\\site-packages (from imbalanced-learn) (1.19.5)\n",
      "Requirement already satisfied: threadpoolctl>=2.0.0 in c:\\users\\hb16584\\anaconda3\\envs\\myenvtec\\lib\\site-packages (from scikit-learn>=0.24->imbalanced-learn) (2.2.0)\n"
     ]
    }
   ],
   "source": [
    "pip install imbalanced-learn"
   ]
  },
  {
   "cell_type": "code",
   "execution_count": 10,
   "metadata": {
    "colab": {
     "base_uri": "https://localhost:8080/"
    },
    "id": "65Q5CLj3gExD",
    "outputId": "b5e80d29-a879-4dcf-cb81-93f9cadfa37f"
   },
   "outputs": [
    {
     "name": "stdout",
     "output_type": "stream",
     "text": [
      "0.8.0\n"
     ]
    }
   ],
   "source": [
    "# check version number\n",
    "import imblearn\n",
    "print(imblearn.__version__)"
   ]
  },
  {
   "cell_type": "code",
   "execution_count": 11,
   "metadata": {
    "colab": {
     "base_uri": "https://localhost:8080/",
     "height": 350
    },
    "id": "PaIBo3kcsO_0",
    "outputId": "4707b95e-b278-4b8b-b83e-488ea1566bd1"
   },
   "outputs": [
    {
     "name": "stderr",
     "output_type": "stream",
     "text": [
      "C:\\Users\\HB16584\\Anaconda3\\envs\\myenvtec\\lib\\site-packages\\seaborn\\_decorators.py:43: FutureWarning: Pass the following variable as a keyword arg: x. From version 0.12, the only valid positional argument will be `data`, and passing other arguments without an explicit keyword will result in an error or misinterpretation.\n",
      "  FutureWarning\n"
     ]
    },
    {
     "data": {
      "text/plain": [
       "<matplotlib.axes._subplots.AxesSubplot at 0x2258a0e35f8>"
      ]
     },
     "execution_count": 11,
     "metadata": {},
     "output_type": "execute_result"
    },
    {
     "data": {
      "image/png": "[encoded data removed]",
      "text/plain": [
       "<Figure size 432x288 with 1 Axes>"
      ]
     },
     "metadata": {
      "needs_background": "light"
     },
     "output_type": "display_data"
    }
   ],
   "source": [
    "#Visualize the number of employees that stayed and left the company\n",
    "sns.countplot(df['Status'])"
   ]
  },
  {
   "cell_type": "code",
   "execution_count": 12,
   "metadata": {
    "id": "_0v9KkK8hTco"
   },
   "outputs": [],
   "source": [
    "df = df.drop('Department', axis = 1)\n",
    "df = df.drop('User', axis = 1)\n",
    "df = df.drop('Emp_type', axis = 1)\n",
    "df = df.drop('control_point', axis = 1)\n",
    "df = df.drop('Job_Code', axis = 1)"
   ]
  },
  {
   "cell_type": "code",
   "execution_count": 13,
   "metadata": {
    "colab": {
     "base_uri": "https://localhost:8080/",
     "height": 438
    },
    "id": "lA0rg7iik83_",
    "outputId": "d136610f-cd48-4323-9cd6-e0b232e9ebc7"
   },
   "outputs": [
    {
     "data": {
      "text/html": [
       "<div>\n",
       "<style scoped>\n",
       "    .dataframe tbody tr th:only-of-type {\n",
       "        vertical-align: middle;\n",
       "    }\n",
       "\n",
       "    .dataframe tbody tr th {\n",
       "        vertical-align: top;\n",
       "    }\n",
       "\n",
       "    .dataframe thead th {\n",
       "        text-align: right;\n",
       "    }\n",
       "</style>\n",
       "<table border=\"1\" class=\"dataframe\">\n",
       "  <thead>\n",
       "    <tr style=\"text-align: right;\">\n",
       "      <th></th>\n",
       "      <th>Gate</th>\n",
       "      <th>Gender</th>\n",
       "      <th>Country</th>\n",
       "      <th>Function</th>\n",
       "      <th>Scale</th>\n",
       "      <th>Promotions</th>\n",
       "      <th>Intern_Asig</th>\n",
       "      <th>Age</th>\n",
       "      <th>Seniority</th>\n",
       "      <th>Dependents</th>\n",
       "      <th>Comparatio</th>\n",
       "      <th>Status</th>\n",
       "    </tr>\n",
       "  </thead>\n",
       "  <tbody>\n",
       "    <tr>\n",
       "      <th>0</th>\n",
       "      <td>2</td>\n",
       "      <td>0</td>\n",
       "      <td>7</td>\n",
       "      <td>1</td>\n",
       "      <td>22</td>\n",
       "      <td>1</td>\n",
       "      <td>1</td>\n",
       "      <td>41</td>\n",
       "      <td>12</td>\n",
       "      <td>3</td>\n",
       "      <td>1.002678</td>\n",
       "      <td>1</td>\n",
       "    </tr>\n",
       "    <tr>\n",
       "      <th>1</th>\n",
       "      <td>1</td>\n",
       "      <td>1</td>\n",
       "      <td>7</td>\n",
       "      <td>1</td>\n",
       "      <td>19</td>\n",
       "      <td>1</td>\n",
       "      <td>1</td>\n",
       "      <td>35</td>\n",
       "      <td>9</td>\n",
       "      <td>0</td>\n",
       "      <td>0.740286</td>\n",
       "      <td>1</td>\n",
       "    </tr>\n",
       "    <tr>\n",
       "      <th>2</th>\n",
       "      <td>2</td>\n",
       "      <td>0</td>\n",
       "      <td>9</td>\n",
       "      <td>1</td>\n",
       "      <td>27</td>\n",
       "      <td>1</td>\n",
       "      <td>1</td>\n",
       "      <td>47</td>\n",
       "      <td>4</td>\n",
       "      <td>4</td>\n",
       "      <td>1.184889</td>\n",
       "      <td>1</td>\n",
       "    </tr>\n",
       "    <tr>\n",
       "      <th>3</th>\n",
       "      <td>2</td>\n",
       "      <td>0</td>\n",
       "      <td>9</td>\n",
       "      <td>1</td>\n",
       "      <td>27</td>\n",
       "      <td>1</td>\n",
       "      <td>1</td>\n",
       "      <td>42</td>\n",
       "      <td>14</td>\n",
       "      <td>4</td>\n",
       "      <td>1.329917</td>\n",
       "      <td>1</td>\n",
       "    </tr>\n",
       "    <tr>\n",
       "      <th>4</th>\n",
       "      <td>1</td>\n",
       "      <td>0</td>\n",
       "      <td>9</td>\n",
       "      <td>1</td>\n",
       "      <td>19</td>\n",
       "      <td>2</td>\n",
       "      <td>1</td>\n",
       "      <td>36</td>\n",
       "      <td>7</td>\n",
       "      <td>4</td>\n",
       "      <td>1.144653</td>\n",
       "      <td>1</td>\n",
       "    </tr>\n",
       "    <tr>\n",
       "      <th>...</th>\n",
       "      <td>...</td>\n",
       "      <td>...</td>\n",
       "      <td>...</td>\n",
       "      <td>...</td>\n",
       "      <td>...</td>\n",
       "      <td>...</td>\n",
       "      <td>...</td>\n",
       "      <td>...</td>\n",
       "      <td>...</td>\n",
       "      <td>...</td>\n",
       "      <td>...</td>\n",
       "      <td>...</td>\n",
       "    </tr>\n",
       "    <tr>\n",
       "      <th>1229</th>\n",
       "      <td>3</td>\n",
       "      <td>1</td>\n",
       "      <td>9</td>\n",
       "      <td>4</td>\n",
       "      <td>22</td>\n",
       "      <td>3</td>\n",
       "      <td>0</td>\n",
       "      <td>33</td>\n",
       "      <td>7</td>\n",
       "      <td>3</td>\n",
       "      <td>0.709521</td>\n",
       "      <td>0</td>\n",
       "    </tr>\n",
       "    <tr>\n",
       "      <th>1230</th>\n",
       "      <td>3</td>\n",
       "      <td>1</td>\n",
       "      <td>9</td>\n",
       "      <td>4</td>\n",
       "      <td>22</td>\n",
       "      <td>3</td>\n",
       "      <td>0</td>\n",
       "      <td>30</td>\n",
       "      <td>7</td>\n",
       "      <td>1</td>\n",
       "      <td>0.698136</td>\n",
       "      <td>0</td>\n",
       "    </tr>\n",
       "    <tr>\n",
       "      <th>1231</th>\n",
       "      <td>3</td>\n",
       "      <td>0</td>\n",
       "      <td>9</td>\n",
       "      <td>4</td>\n",
       "      <td>22</td>\n",
       "      <td>3</td>\n",
       "      <td>0</td>\n",
       "      <td>31</td>\n",
       "      <td>7</td>\n",
       "      <td>0</td>\n",
       "      <td>0.654270</td>\n",
       "      <td>0</td>\n",
       "    </tr>\n",
       "    <tr>\n",
       "      <th>1232</th>\n",
       "      <td>2</td>\n",
       "      <td>0</td>\n",
       "      <td>7</td>\n",
       "      <td>4</td>\n",
       "      <td>22</td>\n",
       "      <td>2</td>\n",
       "      <td>1</td>\n",
       "      <td>38</td>\n",
       "      <td>12</td>\n",
       "      <td>0</td>\n",
       "      <td>0.801506</td>\n",
       "      <td>1</td>\n",
       "    </tr>\n",
       "    <tr>\n",
       "      <th>1233</th>\n",
       "      <td>1</td>\n",
       "      <td>1</td>\n",
       "      <td>10</td>\n",
       "      <td>4</td>\n",
       "      <td>19</td>\n",
       "      <td>3</td>\n",
       "      <td>0</td>\n",
       "      <td>26</td>\n",
       "      <td>4</td>\n",
       "      <td>0</td>\n",
       "      <td>1.000000</td>\n",
       "      <td>0</td>\n",
       "    </tr>\n",
       "  </tbody>\n",
       "</table>\n",
       "<p>1234 rows × 12 columns</p>\n",
       "</div>"
      ],
      "text/plain": [
       "      Gate  Gender  Country  Function  Scale  Promotions  Intern_Asig  Age  \\\n",
       "0        2       0        7         1     22           1            1   41   \n",
       "1        1       1        7         1     19           1            1   35   \n",
       "2        2       0        9         1     27           1            1   47   \n",
       "3        2       0        9         1     27           1            1   42   \n",
       "4        1       0        9         1     19           2            1   36   \n",
       "...    ...     ...      ...       ...    ...         ...          ...  ...   \n",
       "1229     3       1        9         4     22           3            0   33   \n",
       "1230     3       1        9         4     22           3            0   30   \n",
       "1231     3       0        9         4     22           3            0   31   \n",
       "1232     2       0        7         4     22           2            1   38   \n",
       "1233     1       1       10         4     19           3            0   26   \n",
       "\n",
       "      Seniority  Dependents  Comparatio  Status  \n",
       "0            12           3    1.002678       1  \n",
       "1             9           0    0.740286       1  \n",
       "2             4           4    1.184889       1  \n",
       "3            14           4    1.329917       1  \n",
       "4             7           4    1.144653       1  \n",
       "...         ...         ...         ...     ...  \n",
       "1229          7           3    0.709521       0  \n",
       "1230          7           1    0.698136       0  \n",
       "1231          7           0    0.654270       0  \n",
       "1232         12           0    0.801506       1  \n",
       "1233          4           0    1.000000       0  \n",
       "\n",
       "[1234 rows x 12 columns]"
      ]
     },
     "execution_count": 13,
     "metadata": {},
     "output_type": "execute_result"
    }
   ],
   "source": [
    "df"
   ]
  },
  {
   "cell_type": "code",
   "execution_count": 14,
   "metadata": {
    "id": "oijJHGPsbKUc"
   },
   "outputs": [],
   "source": [
    "from imblearn.over_sampling import RandomOverSampler, SMOTE\n",
    "ros = RandomOverSampler()#random_state = 0\n",
    "#SMOTE\n",
    "smote = SMOTE()"
   ]
  },
  {
   "cell_type": "code",
   "execution_count": 15,
   "metadata": {
    "colab": {
     "base_uri": "https://localhost:8080/",
     "height": 299
    },
    "id": "TVBKN1xwtH-a",
    "outputId": "e5b5eed8-5f9f-4fc4-95be-8161bef1944d"
   },
   "outputs": [
    {
     "data": {
      "text/plain": [
       "<matplotlib.axes._subplots.AxesSubplot at 0x2258a181b00>"
      ]
     },
     "execution_count": 15,
     "metadata": {},
     "output_type": "execute_result"
    },
    {
     "data": {
      "image/png": "[encoded data removed]",
      "text/plain": [
       "<Figure size 864x288 with 1 Axes>"
      ]
     },
     "metadata": {
      "needs_background": "light"
     },
     "output_type": "display_data"
    }
   ],
   "source": [
    "#Show the number of employees that left and stayed by ages\n",
    "import matplotlib.pyplot as plt\n",
    "plt.subplots(figsize=(12,4))\n",
    "sns.countplot(x='Age', hue='Status', data=df, palette = 'colorblind')\n"
   ]
  },
  {
   "cell_type": "code",
   "execution_count": 16,
   "metadata": {
    "colab": {
     "base_uri": "https://localhost:8080/"
    },
    "id": "pwLCtK7YuLUF",
    "outputId": "4591944a-a042-4bf5-d1ad-21e603b5bd07"
   },
   "outputs": [],
   "source": [
    "#Print all of the data types and their unique values\n",
    "for column in df.columns:\n",
    "  if df[column].dtype == object:\n",
    "    print(str(column) + ' : ' + (df[column].unique()))\n",
    "    print(df[column].value_counts())\n",
    "    print('_______________________________________________________________________________________')"
   ]
  },
  {
   "cell_type": "code",
   "execution_count": 17,
   "metadata": {
    "colab": {
     "base_uri": "https://localhost:8080/",
     "height": 266
    },
    "id": "1doyJEYkzI9-",
    "outputId": "1dba009b-29f2-4bae-c5c0-4bab7b288cd1"
   },
   "outputs": [
    {
     "data": {
      "text/html": [
       "<div>\n",
       "<style scoped>\n",
       "    .dataframe tbody tr th:only-of-type {\n",
       "        vertical-align: middle;\n",
       "    }\n",
       "\n",
       "    .dataframe tbody tr th {\n",
       "        vertical-align: top;\n",
       "    }\n",
       "\n",
       "    .dataframe thead th {\n",
       "        text-align: right;\n",
       "    }\n",
       "</style>\n",
       "<table border=\"1\" class=\"dataframe\">\n",
       "  <thead>\n",
       "    <tr style=\"text-align: right;\">\n",
       "      <th></th>\n",
       "      <th>Gate</th>\n",
       "      <th>Gender</th>\n",
       "      <th>Country</th>\n",
       "      <th>Function</th>\n",
       "      <th>Scale</th>\n",
       "      <th>Promotions</th>\n",
       "      <th>Intern_Asig</th>\n",
       "      <th>Age</th>\n",
       "      <th>Seniority</th>\n",
       "      <th>Dependents</th>\n",
       "      <th>Comparatio</th>\n",
       "      <th>Status</th>\n",
       "    </tr>\n",
       "  </thead>\n",
       "  <tbody>\n",
       "    <tr>\n",
       "      <th>Gate</th>\n",
       "      <td>1.000000</td>\n",
       "      <td>-0.049586</td>\n",
       "      <td>-0.078188</td>\n",
       "      <td>0.004769</td>\n",
       "      <td>0.560230</td>\n",
       "      <td>0.335185</td>\n",
       "      <td>0.209821</td>\n",
       "      <td>0.349214</td>\n",
       "      <td>0.408710</td>\n",
       "      <td>0.242655</td>\n",
       "      <td>0.142029</td>\n",
       "      <td>0.045620</td>\n",
       "    </tr>\n",
       "    <tr>\n",
       "      <th>Gender</th>\n",
       "      <td>-0.049586</td>\n",
       "      <td>1.000000</td>\n",
       "      <td>-0.070575</td>\n",
       "      <td>0.082784</td>\n",
       "      <td>0.126882</td>\n",
       "      <td>-0.046570</td>\n",
       "      <td>-0.090705</td>\n",
       "      <td>-0.230300</td>\n",
       "      <td>-0.082754</td>\n",
       "      <td>-0.161728</td>\n",
       "      <td>-0.182874</td>\n",
       "      <td>0.016287</td>\n",
       "    </tr>\n",
       "    <tr>\n",
       "      <th>Country</th>\n",
       "      <td>-0.078188</td>\n",
       "      <td>-0.070575</td>\n",
       "      <td>1.000000</td>\n",
       "      <td>-0.157953</td>\n",
       "      <td>-0.029542</td>\n",
       "      <td>-0.084513</td>\n",
       "      <td>-0.378728</td>\n",
       "      <td>-0.114398</td>\n",
       "      <td>-0.246169</td>\n",
       "      <td>-0.043907</td>\n",
       "      <td>-0.111767</td>\n",
       "      <td>-0.128624</td>\n",
       "    </tr>\n",
       "    <tr>\n",
       "      <th>Function</th>\n",
       "      <td>0.004769</td>\n",
       "      <td>0.082784</td>\n",
       "      <td>-0.157953</td>\n",
       "      <td>1.000000</td>\n",
       "      <td>0.158557</td>\n",
       "      <td>0.059914</td>\n",
       "      <td>0.063573</td>\n",
       "      <td>-0.082628</td>\n",
       "      <td>0.034088</td>\n",
       "      <td>-0.061627</td>\n",
       "      <td>0.016893</td>\n",
       "      <td>0.071944</td>\n",
       "    </tr>\n",
       "    <tr>\n",
       "      <th>Scale</th>\n",
       "      <td>0.560230</td>\n",
       "      <td>0.126882</td>\n",
       "      <td>-0.029542</td>\n",
       "      <td>0.158557</td>\n",
       "      <td>1.000000</td>\n",
       "      <td>0.124939</td>\n",
       "      <td>0.094591</td>\n",
       "      <td>0.127832</td>\n",
       "      <td>0.182974</td>\n",
       "      <td>0.085450</td>\n",
       "      <td>-0.038504</td>\n",
       "      <td>0.106153</td>\n",
       "    </tr>\n",
       "    <tr>\n",
       "      <th>Promotions</th>\n",
       "      <td>0.335185</td>\n",
       "      <td>-0.046570</td>\n",
       "      <td>-0.084513</td>\n",
       "      <td>0.059914</td>\n",
       "      <td>0.124939</td>\n",
       "      <td>1.000000</td>\n",
       "      <td>0.295657</td>\n",
       "      <td>0.011022</td>\n",
       "      <td>0.328511</td>\n",
       "      <td>0.058690</td>\n",
       "      <td>0.004798</td>\n",
       "      <td>-0.064069</td>\n",
       "    </tr>\n",
       "    <tr>\n",
       "      <th>Intern_Asig</th>\n",
       "      <td>0.209821</td>\n",
       "      <td>-0.090705</td>\n",
       "      <td>-0.378728</td>\n",
       "      <td>0.063573</td>\n",
       "      <td>0.094591</td>\n",
       "      <td>0.295657</td>\n",
       "      <td>1.000000</td>\n",
       "      <td>0.242863</td>\n",
       "      <td>0.357378</td>\n",
       "      <td>0.227812</td>\n",
       "      <td>0.097631</td>\n",
       "      <td>0.079655</td>\n",
       "    </tr>\n",
       "    <tr>\n",
       "      <th>Age</th>\n",
       "      <td>0.349214</td>\n",
       "      <td>-0.230300</td>\n",
       "      <td>-0.114398</td>\n",
       "      <td>-0.082628</td>\n",
       "      <td>0.127832</td>\n",
       "      <td>0.011022</td>\n",
       "      <td>0.242863</td>\n",
       "      <td>1.000000</td>\n",
       "      <td>0.500567</td>\n",
       "      <td>0.431394</td>\n",
       "      <td>0.323310</td>\n",
       "      <td>0.112717</td>\n",
       "    </tr>\n",
       "    <tr>\n",
       "      <th>Seniority</th>\n",
       "      <td>0.408710</td>\n",
       "      <td>-0.082754</td>\n",
       "      <td>-0.246169</td>\n",
       "      <td>0.034088</td>\n",
       "      <td>0.182974</td>\n",
       "      <td>0.328511</td>\n",
       "      <td>0.357378</td>\n",
       "      <td>0.500567</td>\n",
       "      <td>1.000000</td>\n",
       "      <td>0.336902</td>\n",
       "      <td>0.225937</td>\n",
       "      <td>0.039695</td>\n",
       "    </tr>\n",
       "    <tr>\n",
       "      <th>Dependents</th>\n",
       "      <td>0.242655</td>\n",
       "      <td>-0.161728</td>\n",
       "      <td>-0.043907</td>\n",
       "      <td>-0.061627</td>\n",
       "      <td>0.085450</td>\n",
       "      <td>0.058690</td>\n",
       "      <td>0.227812</td>\n",
       "      <td>0.431394</td>\n",
       "      <td>0.336902</td>\n",
       "      <td>1.000000</td>\n",
       "      <td>0.247816</td>\n",
       "      <td>0.037836</td>\n",
       "    </tr>\n",
       "    <tr>\n",
       "      <th>Comparatio</th>\n",
       "      <td>0.142029</td>\n",
       "      <td>-0.182874</td>\n",
       "      <td>-0.111767</td>\n",
       "      <td>0.016893</td>\n",
       "      <td>-0.038504</td>\n",
       "      <td>0.004798</td>\n",
       "      <td>0.097631</td>\n",
       "      <td>0.323310</td>\n",
       "      <td>0.225937</td>\n",
       "      <td>0.247816</td>\n",
       "      <td>1.000000</td>\n",
       "      <td>-0.018783</td>\n",
       "    </tr>\n",
       "    <tr>\n",
       "      <th>Status</th>\n",
       "      <td>0.045620</td>\n",
       "      <td>0.016287</td>\n",
       "      <td>-0.128624</td>\n",
       "      <td>0.071944</td>\n",
       "      <td>0.106153</td>\n",
       "      <td>-0.064069</td>\n",
       "      <td>0.079655</td>\n",
       "      <td>0.112717</td>\n",
       "      <td>0.039695</td>\n",
       "      <td>0.037836</td>\n",
       "      <td>-0.018783</td>\n",
       "      <td>1.000000</td>\n",
       "    </tr>\n",
       "  </tbody>\n",
       "</table>\n",
       "</div>"
      ],
      "text/plain": [
       "                 Gate    Gender   Country  Function     Scale  Promotions  \\\n",
       "Gate         1.000000 -0.049586 -0.078188  0.004769  0.560230    0.335185   \n",
       "Gender      -0.049586  1.000000 -0.070575  0.082784  0.126882   -0.046570   \n",
       "Country     -0.078188 -0.070575  1.000000 -0.157953 -0.029542   -0.084513   \n",
       "Function     0.004769  0.082784 -0.157953  1.000000  0.158557    0.059914   \n",
       "Scale        0.560230  0.126882 -0.029542  0.158557  1.000000    0.124939   \n",
       "Promotions   0.335185 -0.046570 -0.084513  0.059914  0.124939    1.000000   \n",
       "Intern_Asig  0.209821 -0.090705 -0.378728  0.063573  0.094591    0.295657   \n",
       "Age          0.349214 -0.230300 -0.114398 -0.082628  0.127832    0.011022   \n",
       "Seniority    0.408710 -0.082754 -0.246169  0.034088  0.182974    0.328511   \n",
       "Dependents   0.242655 -0.161728 -0.043907 -0.061627  0.085450    0.058690   \n",
       "Comparatio   0.142029 -0.182874 -0.111767  0.016893 -0.038504    0.004798   \n",
       "Status       0.045620  0.016287 -0.128624  0.071944  0.106153   -0.064069   \n",
       "\n",
       "             Intern_Asig       Age  Seniority  Dependents  Comparatio  \\\n",
       "Gate            0.209821  0.349214   0.408710    0.242655    0.142029   \n",
       "Gender         -0.090705 -0.230300  -0.082754   -0.161728   -0.182874   \n",
       "Country        -0.378728 -0.114398  -0.246169   -0.043907   -0.111767   \n",
       "Function        0.063573 -0.082628   0.034088   -0.061627    0.016893   \n",
       "Scale           0.094591  0.127832   0.182974    0.085450   -0.038504   \n",
       "Promotions      0.295657  0.011022   0.328511    0.058690    0.004798   \n",
       "Intern_Asig     1.000000  0.242863   0.357378    0.227812    0.097631   \n",
       "Age             0.242863  1.000000   0.500567    0.431394    0.323310   \n",
       "Seniority       0.357378  0.500567   1.000000    0.336902    0.225937   \n",
       "Dependents      0.227812  0.431394   0.336902    1.000000    0.247816   \n",
       "Comparatio      0.097631  0.323310   0.225937    0.247816    1.000000   \n",
       "Status          0.079655  0.112717   0.039695    0.037836   -0.018783   \n",
       "\n",
       "               Status  \n",
       "Gate         0.045620  \n",
       "Gender       0.016287  \n",
       "Country     -0.128624  \n",
       "Function     0.071944  \n",
       "Scale        0.106153  \n",
       "Promotions  -0.064069  \n",
       "Intern_Asig  0.079655  \n",
       "Age          0.112717  \n",
       "Seniority    0.039695  \n",
       "Dependents   0.037836  \n",
       "Comparatio  -0.018783  \n",
       "Status       1.000000  "
      ]
     },
     "execution_count": 17,
     "metadata": {},
     "output_type": "execute_result"
    }
   ],
   "source": [
    "df.corr()"
   ]
  },
  {
   "cell_type": "code",
   "execution_count": null,
   "metadata": {
    "id": "Sx3Ku9-JmaYe"
   },
   "outputs": [],
   "source": []
  },
  {
   "cell_type": "code",
   "execution_count": 18,
   "metadata": {
    "colab": {
     "base_uri": "https://localhost:8080/",
     "height": 830
    },
    "id": "8x4RoHiqzVjb",
    "outputId": "066f76ed-7420-4b60-e5f0-fc62fc8889c9"
   },
   "outputs": [
    {
     "data": {
      "text/plain": [
       "<matplotlib.axes._subplots.AxesSubplot at 0x2258a38eda0>"
      ]
     },
     "execution_count": 18,
     "metadata": {},
     "output_type": "execute_result"
    },
    {
     "data": {
      "image/png": "[encoded data removed]",
      "text/plain": [
       "<Figure size 1008x1008 with 2 Axes>"
      ]
     },
     "metadata": {
      "needs_background": "light"
     },
     "output_type": "display_data"
    }
   ],
   "source": [
    "#Visualize the correlation\n",
    "plt.figure(figsize=(14,14))\n",
    "sns.heatmap(df.corr(), annot=True, fmt= '.0%')"
   ]
  },
  {
   "cell_type": "code",
   "execution_count": 19,
   "metadata": {
    "id": "YM6MeSTPpN1p"
   },
   "outputs": [],
   "source": [
    "# Generate and plot a synthetic imbalanced classification dataset\n",
    "from collections import Counter\n",
    "from sklearn.datasets import make_classification\n",
    "from matplotlib import pyplot\n",
    "from numpy import where"
   ]
  },
  {
   "cell_type": "code",
   "execution_count": 20,
   "metadata": {
    "id": "FcgmKA5z0I8p"
   },
   "outputs": [],
   "source": [
    "from sklearn.model_selection import train_test_split\n",
    "\n",
    "X = df.drop(\"Status\", axis=1)\n",
    "y = df[\"Status\"]\n",
    "\n",
    "# Use the SMOTE to oversample\n",
    "# SMOTE dependency\n",
    "from imblearn.over_sampling import SMOTE\n",
    "\n"
   ]
  },
  {
   "cell_type": "code",
   "execution_count": 21,
   "metadata": {
    "colab": {
     "base_uri": "https://localhost:8080/",
     "height": 340
    },
    "id": "NhUwMK0FEG66",
    "outputId": "1fa19d00-1fcd-4f91-b21b-e74373f00285"
   },
   "outputs": [],
   "source": [
    "# createa an instance of SMOTE\n",
    "smote= SMOTE()\n",
    "X, y = smote.fit_resample(X,y)\n"
   ]
  },
  {
   "cell_type": "code",
   "execution_count": 22,
   "metadata": {
    "id": "HWzkEepBya_h"
   },
   "outputs": [],
   "source": [
    "X_train, X_test, y_train, y_test = train_test_split(\n",
    "    X, y, test_size=0.25, random_state=42\n",
    ")\n",
    "\n",
    "# print(f'''% Active in Train = {np.round(y_train.value_counts(normalize=True)[1] * 100, 2)}\n",
    "# % Active in Test  = {np.round(y_test.value_counts(normalize=True)[1] * 100, 2)}''')\n"
   ]
  },
  {
   "cell_type": "code",
   "execution_count": 23,
   "metadata": {
    "id": "APndD0zJrFAd"
   },
   "outputs": [],
   "source": [
    "from sklearn.ensemble import RandomForestClassifier\n",
    "from sklearn.metrics import accuracy_score, recall_score, confusion_matrix\n",
    "\n",
    "# Train\n",
    "model = RandomForestClassifier(random_state=42)\n",
    "model.fit(X_train, y_train)\n",
    "preds = model.predict(X_test)\n",
    "\n"
   ]
  },
  {
   "cell_type": "code",
   "execution_count": 24,
   "metadata": {
    "colab": {
     "base_uri": "https://localhost:8080/",
     "height": 443
    },
    "id": "xQpiV_3pxP2q",
    "outputId": "c62a6362-723b-42d7-a503-d09a78502dc2"
   },
   "outputs": [
    {
     "name": "stdout",
     "output_type": "stream",
     "text": [
      "Accuracy = 0.89\n",
      "Recall = 0.88\n",
      "\n"
     ]
    },
    {
     "data": {
      "image/png": "[encoded data removed]",
      "text/plain": [
       "<Figure size 576x432 with 2 Axes>"
      ]
     },
     "metadata": {
      "needs_background": "light"
     },
     "output_type": "display_data"
    }
   ],
   "source": [
    "# Evaluate\n",
    "print(f'Accuracy = {accuracy_score(y_test, preds):.2f}\\nRecall = {recall_score(y_test, preds):.2f}\\n')\n",
    "cm = confusion_matrix(y_test, preds, normalize= \"true\")\n",
    "plt.figure(figsize=(8, 6))\n",
    "plt.title('Confusion Matrix (without SMOTE)', size=16)\n",
    "sns.heatmap(cm, annot=True, cmap='Blues');"
   ]
  },
  {
   "cell_type": "code",
   "execution_count": 25,
   "metadata": {
    "colab": {
     "base_uri": "https://localhost:8080/"
    },
    "id": "ZFJKUSnVuNUy",
    "outputId": "6d760846-e175-439b-891e-ba9bb6e40295"
   },
   "outputs": [
    {
     "name": "stdout",
     "output_type": "stream",
     "text": [
      "Counter({1: 939, 0: 939})\n"
     ]
    }
   ],
   "source": [
    "# summarize class distribution\n",
    "counter = Counter(y)\n",
    "print(counter)"
   ]
  },
  {
   "cell_type": "code",
   "execution_count": 26,
   "metadata": {
    "colab": {
     "base_uri": "https://localhost:8080/"
    },
    "id": "KqvD-pNo2MAE",
    "outputId": "9575b756-fdf1-46d6-d2d2-439b8ed76e0b"
   },
   "outputs": [
    {
     "name": "stdout",
     "output_type": "stream",
     "text": [
      "Training Data Score: 0.9978693181818182\n",
      "Testing Data Score: 0.8872340425531915\n"
     ]
    }
   ],
   "source": [
    "print(f\"Training Data Score: {model.score(X_train, y_train)}\")\n",
    "print(f\"Testing Data Score: {model.score(X_test, y_test)}\")"
   ]
  },
  {
   "cell_type": "code",
   "execution_count": 27,
   "metadata": {
    "colab": {
     "base_uri": "https://localhost:8080/"
    },
    "id": "L1s23_ij2T8l",
    "outputId": "0951a07b-7f87-4d18-d284-7fc1630da235"
   },
   "outputs": [
    {
     "name": "stdout",
     "output_type": "stream",
     "text": [
      "First 10 Predictions:   [1 0 0 0 1 1 1 0 0 1]\n",
      "First 10 Actual labels: [1, 0, 0, 1, 1, 1, 1, 0, 0, 0]\n"
     ]
    }
   ],
   "source": [
    "predictions = model.predict(X_test)\n",
    "print(f\"First 10 Predictions:   {predictions[:10]}\")\n",
    "print(f\"First 10 Actual labels: {y_test[:10].tolist()}\")"
   ]
  },
  {
   "cell_type": "code",
   "execution_count": 28,
   "metadata": {
    "colab": {
     "base_uri": "https://localhost:8080/",
     "height": 418
    },
    "id": "CLzdLUkj2duE",
    "outputId": "0047cbd2-9e86-4bcd-e6b1-59027e062412"
   },
   "outputs": [
    {
     "data": {
      "text/html": [
       "<div>\n",
       "<style scoped>\n",
       "    .dataframe tbody tr th:only-of-type {\n",
       "        vertical-align: middle;\n",
       "    }\n",
       "\n",
       "    .dataframe tbody tr th {\n",
       "        vertical-align: top;\n",
       "    }\n",
       "\n",
       "    .dataframe thead th {\n",
       "        text-align: right;\n",
       "    }\n",
       "</style>\n",
       "<table border=\"1\" class=\"dataframe\">\n",
       "  <thead>\n",
       "    <tr style=\"text-align: right;\">\n",
       "      <th></th>\n",
       "      <th>Prediction</th>\n",
       "      <th>Actual</th>\n",
       "    </tr>\n",
       "  </thead>\n",
       "  <tbody>\n",
       "    <tr>\n",
       "      <th>0</th>\n",
       "      <td>1</td>\n",
       "      <td>1</td>\n",
       "    </tr>\n",
       "    <tr>\n",
       "      <th>1</th>\n",
       "      <td>0</td>\n",
       "      <td>0</td>\n",
       "    </tr>\n",
       "    <tr>\n",
       "      <th>2</th>\n",
       "      <td>0</td>\n",
       "      <td>0</td>\n",
       "    </tr>\n",
       "    <tr>\n",
       "      <th>3</th>\n",
       "      <td>0</td>\n",
       "      <td>1</td>\n",
       "    </tr>\n",
       "    <tr>\n",
       "      <th>4</th>\n",
       "      <td>1</td>\n",
       "      <td>1</td>\n",
       "    </tr>\n",
       "    <tr>\n",
       "      <th>...</th>\n",
       "      <td>...</td>\n",
       "      <td>...</td>\n",
       "    </tr>\n",
       "    <tr>\n",
       "      <th>465</th>\n",
       "      <td>1</td>\n",
       "      <td>1</td>\n",
       "    </tr>\n",
       "    <tr>\n",
       "      <th>466</th>\n",
       "      <td>0</td>\n",
       "      <td>0</td>\n",
       "    </tr>\n",
       "    <tr>\n",
       "      <th>467</th>\n",
       "      <td>1</td>\n",
       "      <td>1</td>\n",
       "    </tr>\n",
       "    <tr>\n",
       "      <th>468</th>\n",
       "      <td>0</td>\n",
       "      <td>0</td>\n",
       "    </tr>\n",
       "    <tr>\n",
       "      <th>469</th>\n",
       "      <td>1</td>\n",
       "      <td>1</td>\n",
       "    </tr>\n",
       "  </tbody>\n",
       "</table>\n",
       "<p>470 rows × 2 columns</p>\n",
       "</div>"
      ],
      "text/plain": [
       "     Prediction  Actual\n",
       "0             1       1\n",
       "1             0       0\n",
       "2             0       0\n",
       "3             0       1\n",
       "4             1       1\n",
       "..          ...     ...\n",
       "465           1       1\n",
       "466           0       0\n",
       "467           1       1\n",
       "468           0       0\n",
       "469           1       1\n",
       "\n",
       "[470 rows x 2 columns]"
      ]
     },
     "execution_count": 28,
     "metadata": {},
     "output_type": "execute_result"
    }
   ],
   "source": [
    "pd.DataFrame({\"Prediction\": predictions, \"Actual\": y_test}).reset_index(drop=True)"
   ]
  },
  {
   "cell_type": "code",
   "execution_count": 29,
   "metadata": {
    "id": "Rnxdc8RTZorB"
   },
   "outputs": [],
   "source": [
    "import pickle"
   ]
  },
  {
   "cell_type": "code",
   "execution_count": 30,
   "metadata": {
    "id": "ESrLYTJpZTLJ"
   },
   "outputs": [],
   "source": [
    "# save the model to disk\n",
    "filename = 'finalized_model_rf.sav'\n",
    "pickle.dump(model, open(filename, 'wb'))"
   ]
  },
  {
   "cell_type": "code",
   "execution_count": null,
   "metadata": {
    "id": "n89TccywZnxH"
   },
   "outputs": [],
   "source": []
  }
 ],
 "metadata": {
  "colab": {
   "collapsed_sections": [],
   "name": "Copy of Random.ipynb",
   "provenance": []
  },
  "kernelspec": {
   "display_name": "Python 3",
   "language": "python",
   "name": "python3"
  },
  "language_info": {
   "codemirror_mode": {
    "name": "ipython",
    "version": 3
   },
   "file_extension": ".py",
   "mimetype": "text/x-python",
   "name": "python",
   "nbconvert_exporter": "python",
   "pygments_lexer": "ipython3",
   "version": "3.6.10"
  }
 },
 "nbformat": 4,
 "nbformat_minor": 1
}
