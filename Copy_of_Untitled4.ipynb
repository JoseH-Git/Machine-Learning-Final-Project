{
  "nbformat": 4,
  "nbformat_minor": 0,
  "metadata": {
    "colab": {
      "name": "Copy of Untitled4.ipynb",
      "provenance": [],
      "collapsed_sections": []
    },
    "kernelspec": {
      "name": "python3",
      "display_name": "Python 3"
    },
    "language_info": {
      "name": "python"
    }
  },
  "cells": [
    {
      "cell_type": "code",
      "metadata": {
        "id": "vF7PefIJni45"
      },
      "source": [
        "#import the libraries\n",
        "import numpy as np\n",
        "import pandas as pd\n",
        "import seaborn as sns"
      ],
      "execution_count": 1,
      "outputs": []
    },
    {
      "cell_type": "code",
      "metadata": {
        "colab": {
          "resources": {
            "http://localhost:8080/nbextensions/google.colab/files.js": {
              "data": "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",
              "ok": true,
              "headers": [
                [
                  "content-type",
                  "application/javascript"
                ]
              ],
              "status": 200,
              "status_text": ""
            }
          },
          "base_uri": "https://localhost:8080/",
          "height": 72
        },
        "id": "uGQ35yKlpI-m",
        "outputId": "17c31576-5d69-446d-a936-a13f43faa162"
      },
      "source": [
        "# Load the data\n",
        "from google.colab import files\n",
        "uploaded = files.upload()"
      ],
      "execution_count": 4,
      "outputs": [
        {
          "output_type": "display_data",
          "data": {
            "text/html": [
              "\n",
              "     <input type=\"file\" id=\"files-c06f54c1-b94f-492a-8b3c-ab549d33db88\" name=\"files[]\" multiple disabled\n",
              "        style=\"border:none\" />\n",
              "     <output id=\"result-c06f54c1-b94f-492a-8b3c-ab549d33db88\">\n",
              "      Upload widget is only available when the cell has been executed in the\n",
              "      current browser session. Please rerun this cell to enable.\n",
              "      </output>\n",
              "      <script src=\"/nbextensions/google.colab/files.js\"></script> "
            ],
            "text/plain": [
              "<IPython.core.display.HTML object>"
            ]
          },
          "metadata": {}
        },
        {
          "output_type": "stream",
          "text": [
            "Saving Variables19082.csv to Variables19082 (1).csv\n"
          ],
          "name": "stdout"
        }
      ]
    },
    {
      "cell_type": "code",
      "metadata": {
        "colab": {
          "base_uri": "https://localhost:8080/",
          "height": 422
        },
        "id": "XG6pNOyPpi-d",
        "outputId": "8d755464-8451-420c-bfcd-0ac113d85c16"
      },
      "source": [
        "#store the data into a data frame\n",
        "df = pd.read_csv('Variables19082.csv')\n",
        "\n",
        "#Print the first 7 rows of data\n",
        "df.head(7)"
      ],
      "execution_count": 5,
      "outputs": [
        {
          "output_type": "execute_result",
          "data": {
            "text/html": [
              "<div>\n",
              "<style scoped>\n",
              "    .dataframe tbody tr th:only-of-type {\n",
              "        vertical-align: middle;\n",
              "    }\n",
              "\n",
              "    .dataframe tbody tr th {\n",
              "        vertical-align: top;\n",
              "    }\n",
              "\n",
              "    .dataframe thead th {\n",
              "        text-align: right;\n",
              "    }\n",
              "</style>\n",
              "<table border=\"1\" class=\"dataframe\">\n",
              "  <thead>\n",
              "    <tr style=\"text-align: right;\">\n",
              "      <th></th>\n",
              "      <th>User</th>\n",
              "      <th>Emp_type</th>\n",
              "      <th>Gate</th>\n",
              "      <th>Gender</th>\n",
              "      <th>Department</th>\n",
              "      <th>Country</th>\n",
              "      <th>Function</th>\n",
              "      <th>Job_ control_point</th>\n",
              "      <th>Scale</th>\n",
              "      <th>Promotions</th>\n",
              "      <th>Intern_Asig</th>\n",
              "      <th>Age</th>\n",
              "      <th>Seniority</th>\n",
              "      <th>Dependents</th>\n",
              "      <th>Job Code</th>\n",
              "      <th>Comparatio</th>\n",
              "      <th>Status</th>\n",
              "    </tr>\n",
              "  </thead>\n",
              "  <tbody>\n",
              "    <tr>\n",
              "      <th>0</th>\n",
              "      <td>H238709</td>\n",
              "      <td>Regular employee</td>\n",
              "      <td>2</td>\n",
              "      <td>Male</td>\n",
              "      <td>G</td>\n",
              "      <td>India</td>\n",
              "      <td>Operations</td>\n",
              "      <td>F2-ESG</td>\n",
              "      <td>15</td>\n",
              "      <td>1</td>\n",
              "      <td>No</td>\n",
              "      <td>54</td>\n",
              "      <td>1</td>\n",
              "      <td>4</td>\n",
              "      <td>PF10</td>\n",
              "      <td>1.155543</td>\n",
              "      <td>Active</td>\n",
              "    </tr>\n",
              "    <tr>\n",
              "      <th>1</th>\n",
              "      <td>HBAO258</td>\n",
              "      <td>Regular employee</td>\n",
              "      <td>2</td>\n",
              "      <td>Male</td>\n",
              "      <td>C</td>\n",
              "      <td>Thailand</td>\n",
              "      <td>Operations</td>\n",
              "      <td>H2-ESG</td>\n",
              "      <td>21</td>\n",
              "      <td>2</td>\n",
              "      <td>No</td>\n",
              "      <td>47</td>\n",
              "      <td>26</td>\n",
              "      <td>1</td>\n",
              "      <td>PC11</td>\n",
              "      <td>1.212336</td>\n",
              "      <td>Active</td>\n",
              "    </tr>\n",
              "    <tr>\n",
              "      <th>2</th>\n",
              "      <td>HBAR605</td>\n",
              "      <td>CommuterOut-Halco</td>\n",
              "      <td>2</td>\n",
              "      <td>Male</td>\n",
              "      <td>C</td>\n",
              "      <td>Brunei</td>\n",
              "      <td>Operations</td>\n",
              "      <td>F2-ESG</td>\n",
              "      <td>15</td>\n",
              "      <td>3</td>\n",
              "      <td>Yes</td>\n",
              "      <td>47</td>\n",
              "      <td>24</td>\n",
              "      <td>0</td>\n",
              "      <td>PC10</td>\n",
              "      <td>0.702072</td>\n",
              "      <td>Active</td>\n",
              "    </tr>\n",
              "    <tr>\n",
              "      <th>3</th>\n",
              "      <td>HBAO792</td>\n",
              "      <td>Regular employee</td>\n",
              "      <td>1</td>\n",
              "      <td>Male</td>\n",
              "      <td>G</td>\n",
              "      <td>Brunei</td>\n",
              "      <td>Operations</td>\n",
              "      <td>C1-ESG</td>\n",
              "      <td>4</td>\n",
              "      <td>1</td>\n",
              "      <td>Yes</td>\n",
              "      <td>47</td>\n",
              "      <td>27</td>\n",
              "      <td>0</td>\n",
              "      <td>PS03</td>\n",
              "      <td>1.366488</td>\n",
              "      <td>Active</td>\n",
              "    </tr>\n",
              "    <tr>\n",
              "      <th>4</th>\n",
              "      <td>HBAO783</td>\n",
              "      <td>Regular employee</td>\n",
              "      <td>2</td>\n",
              "      <td>Male</td>\n",
              "      <td>D</td>\n",
              "      <td>Brunei</td>\n",
              "      <td>Operations</td>\n",
              "      <td>E2-ESG</td>\n",
              "      <td>11</td>\n",
              "      <td>1</td>\n",
              "      <td>Yes</td>\n",
              "      <td>48</td>\n",
              "      <td>25</td>\n",
              "      <td>4</td>\n",
              "      <td>CC06</td>\n",
              "      <td>1.276654</td>\n",
              "      <td>Active</td>\n",
              "    </tr>\n",
              "    <tr>\n",
              "      <th>5</th>\n",
              "      <td>HBAR881</td>\n",
              "      <td>Regular employee</td>\n",
              "      <td>2</td>\n",
              "      <td>Male</td>\n",
              "      <td>G</td>\n",
              "      <td>Brunei</td>\n",
              "      <td>Operations</td>\n",
              "      <td>E2-ESG</td>\n",
              "      <td>11</td>\n",
              "      <td>1</td>\n",
              "      <td>Yes</td>\n",
              "      <td>49</td>\n",
              "      <td>25</td>\n",
              "      <td>3</td>\n",
              "      <td>PS09</td>\n",
              "      <td>1.159339</td>\n",
              "      <td>Active</td>\n",
              "    </tr>\n",
              "    <tr>\n",
              "      <th>6</th>\n",
              "      <td>H002271</td>\n",
              "      <td>Regular employee</td>\n",
              "      <td>6</td>\n",
              "      <td>Male</td>\n",
              "      <td>B</td>\n",
              "      <td>Japan</td>\n",
              "      <td>Operations</td>\n",
              "      <td>J3-ESG</td>\n",
              "      <td>28</td>\n",
              "      <td>1</td>\n",
              "      <td>No</td>\n",
              "      <td>59</td>\n",
              "      <td>36</td>\n",
              "      <td>2</td>\n",
              "      <td>R453</td>\n",
              "      <td>0.964507</td>\n",
              "      <td>Active</td>\n",
              "    </tr>\n",
              "  </tbody>\n",
              "</table>\n",
              "</div>"
            ],
            "text/plain": [
              "      User           Emp_type  Gate  ... Job Code Comparatio  Status\n",
              "0  H238709   Regular employee     2  ...     PF10   1.155543  Active\n",
              "1  HBAO258   Regular employee     2  ...     PC11   1.212336  Active\n",
              "2  HBAR605  CommuterOut-Halco     2  ...     PC10   0.702072  Active\n",
              "3  HBAO792   Regular employee     1  ...     PS03   1.366488  Active\n",
              "4  HBAO783   Regular employee     2  ...     CC06   1.276654  Active\n",
              "5  HBAR881   Regular employee     2  ...     PS09   1.159339  Active\n",
              "6  H002271   Regular employee     6  ...     R453   0.964507  Active\n",
              "\n",
              "[7 rows x 17 columns]"
            ]
          },
          "metadata": {},
          "execution_count": 5
        }
      ]
    },
    {
      "cell_type": "code",
      "metadata": {
        "colab": {
          "base_uri": "https://localhost:8080/"
        },
        "id": "CeprdBPnqFvI",
        "outputId": "706a2c3c-3fed-47e3-852b-b8c44021ff4a"
      },
      "source": [
        "#Get the number of rows and cols\n",
        "df.shape"
      ],
      "execution_count": 6,
      "outputs": [
        {
          "output_type": "execute_result",
          "data": {
            "text/plain": [
              "(1235, 17)"
            ]
          },
          "metadata": {},
          "execution_count": 6
        }
      ]
    },
    {
      "cell_type": "code",
      "metadata": {
        "colab": {
          "base_uri": "https://localhost:8080/"
        },
        "id": "cMJsVrphqjpe",
        "outputId": "f2e02a48-7b4b-4ee0-e3e5-d0220fafea23"
      },
      "source": [
        "#Get the colun data types\n",
        "df.dtypes"
      ],
      "execution_count": 7,
      "outputs": [
        {
          "output_type": "execute_result",
          "data": {
            "text/plain": [
              "User                   object\n",
              "Emp_type               object\n",
              "Gate                    int64\n",
              "Gender                 object\n",
              "Department             object\n",
              "Country                object\n",
              "Function               object\n",
              "Job_ control_point     object\n",
              "Scale                   int64\n",
              "Promotions              int64\n",
              "Intern_Asig            object\n",
              "Age                     int64\n",
              "Seniority               int64\n",
              "Dependents              int64\n",
              "Job Code               object\n",
              "Comparatio            float64\n",
              "Status                 object\n",
              "dtype: object"
            ]
          },
          "metadata": {},
          "execution_count": 7
        }
      ]
    },
    {
      "cell_type": "code",
      "metadata": {
        "colab": {
          "base_uri": "https://localhost:8080/"
        },
        "id": "HvbS39eWqtrV",
        "outputId": "8feaa5ed-50fb-4fe3-c837-f5b9bf202fd7"
      },
      "source": [
        "#Get a count of the empty values for each column\n",
        "df.isna().sum()"
      ],
      "execution_count": 8,
      "outputs": [
        {
          "output_type": "execute_result",
          "data": {
            "text/plain": [
              "User                  0\n",
              "Emp_type              0\n",
              "Gate                  0\n",
              "Gender                0\n",
              "Department            0\n",
              "Country               0\n",
              "Function              0\n",
              "Job_ control_point    0\n",
              "Scale                 0\n",
              "Promotions            0\n",
              "Intern_Asig           0\n",
              "Age                   0\n",
              "Seniority             0\n",
              "Dependents            0\n",
              "Job Code              0\n",
              "Comparatio            0\n",
              "Status                0\n",
              "dtype: int64"
            ]
          },
          "metadata": {},
          "execution_count": 8
        }
      ]
    },
    {
      "cell_type": "code",
      "metadata": {
        "colab": {
          "base_uri": "https://localhost:8080/"
        },
        "id": "NMIJIMZvq6wN",
        "outputId": "2f627f3b-7948-4381-eda9-63cf0abe9b43"
      },
      "source": [
        "# Check for any missing /null values\n",
        "df.isnull().values.any()"
      ],
      "execution_count": 9,
      "outputs": [
        {
          "output_type": "execute_result",
          "data": {
            "text/plain": [
              "False"
            ]
          },
          "metadata": {},
          "execution_count": 9
        }
      ]
    },
    {
      "cell_type": "code",
      "metadata": {
        "colab": {
          "base_uri": "https://localhost:8080/",
          "height": 297
        },
        "id": "TN4XY_bNrLYK",
        "outputId": "fe10dcff-d468-48d3-8240-dd49d292cc49"
      },
      "source": [
        "df.describe()"
      ],
      "execution_count": 10,
      "outputs": [
        {
          "output_type": "execute_result",
          "data": {
            "text/html": [
              "<div>\n",
              "<style scoped>\n",
              "    .dataframe tbody tr th:only-of-type {\n",
              "        vertical-align: middle;\n",
              "    }\n",
              "\n",
              "    .dataframe tbody tr th {\n",
              "        vertical-align: top;\n",
              "    }\n",
              "\n",
              "    .dataframe thead th {\n",
              "        text-align: right;\n",
              "    }\n",
              "</style>\n",
              "<table border=\"1\" class=\"dataframe\">\n",
              "  <thead>\n",
              "    <tr style=\"text-align: right;\">\n",
              "      <th></th>\n",
              "      <th>Gate</th>\n",
              "      <th>Scale</th>\n",
              "      <th>Promotions</th>\n",
              "      <th>Age</th>\n",
              "      <th>Seniority</th>\n",
              "      <th>Dependents</th>\n",
              "      <th>Comparatio</th>\n",
              "    </tr>\n",
              "  </thead>\n",
              "  <tbody>\n",
              "    <tr>\n",
              "      <th>count</th>\n",
              "      <td>1235.000000</td>\n",
              "      <td>1235.000000</td>\n",
              "      <td>1235.000000</td>\n",
              "      <td>1235.000000</td>\n",
              "      <td>1235.000000</td>\n",
              "      <td>1235.000000</td>\n",
              "      <td>1235.000000</td>\n",
              "    </tr>\n",
              "    <tr>\n",
              "      <th>mean</th>\n",
              "      <td>2.003239</td>\n",
              "      <td>16.684211</td>\n",
              "      <td>1.944939</td>\n",
              "      <td>35.384615</td>\n",
              "      <td>6.042915</td>\n",
              "      <td>1.276923</td>\n",
              "      <td>0.926760</td>\n",
              "    </tr>\n",
              "    <tr>\n",
              "      <th>std</th>\n",
              "      <td>1.034254</td>\n",
              "      <td>6.783814</td>\n",
              "      <td>1.101883</td>\n",
              "      <td>7.119512</td>\n",
              "      <td>5.595982</td>\n",
              "      <td>1.384474</td>\n",
              "      <td>0.282509</td>\n",
              "    </tr>\n",
              "    <tr>\n",
              "      <th>min</th>\n",
              "      <td>1.000000</td>\n",
              "      <td>4.000000</td>\n",
              "      <td>1.000000</td>\n",
              "      <td>21.000000</td>\n",
              "      <td>0.000000</td>\n",
              "      <td>0.000000</td>\n",
              "      <td>0.026698</td>\n",
              "    </tr>\n",
              "    <tr>\n",
              "      <th>25%</th>\n",
              "      <td>1.000000</td>\n",
              "      <td>11.000000</td>\n",
              "      <td>1.000000</td>\n",
              "      <td>30.000000</td>\n",
              "      <td>1.000000</td>\n",
              "      <td>0.000000</td>\n",
              "      <td>0.722233</td>\n",
              "    </tr>\n",
              "    <tr>\n",
              "      <th>50%</th>\n",
              "      <td>2.000000</td>\n",
              "      <td>19.000000</td>\n",
              "      <td>2.000000</td>\n",
              "      <td>34.000000</td>\n",
              "      <td>6.000000</td>\n",
              "      <td>1.000000</td>\n",
              "      <td>1.000000</td>\n",
              "    </tr>\n",
              "    <tr>\n",
              "      <th>75%</th>\n",
              "      <td>2.000000</td>\n",
              "      <td>21.000000</td>\n",
              "      <td>3.000000</td>\n",
              "      <td>39.000000</td>\n",
              "      <td>9.000000</td>\n",
              "      <td>2.000000</td>\n",
              "      <td>1.011152</td>\n",
              "    </tr>\n",
              "    <tr>\n",
              "      <th>max</th>\n",
              "      <td>6.000000</td>\n",
              "      <td>31.000000</td>\n",
              "      <td>8.000000</td>\n",
              "      <td>68.000000</td>\n",
              "      <td>40.000000</td>\n",
              "      <td>6.000000</td>\n",
              "      <td>2.978723</td>\n",
              "    </tr>\n",
              "  </tbody>\n",
              "</table>\n",
              "</div>"
            ],
            "text/plain": [
              "              Gate        Scale  ...   Dependents   Comparatio\n",
              "count  1235.000000  1235.000000  ...  1235.000000  1235.000000\n",
              "mean      2.003239    16.684211  ...     1.276923     0.926760\n",
              "std       1.034254     6.783814  ...     1.384474     0.282509\n",
              "min       1.000000     4.000000  ...     0.000000     0.026698\n",
              "25%       1.000000    11.000000  ...     0.000000     0.722233\n",
              "50%       2.000000    19.000000  ...     1.000000     1.000000\n",
              "75%       2.000000    21.000000  ...     2.000000     1.011152\n",
              "max       6.000000    31.000000  ...     6.000000     2.978723\n",
              "\n",
              "[8 rows x 7 columns]"
            ]
          },
          "metadata": {},
          "execution_count": 10
        }
      ]
    },
    {
      "cell_type": "code",
      "metadata": {
        "colab": {
          "base_uri": "https://localhost:8080/"
        },
        "id": "6q8HT9EnrWex",
        "outputId": "b9e4f9ac-e4ef-4fa0-a33c-7728ebdbe196"
      },
      "source": [
        "#Get a count of the number of employees that stayed and left the company\n",
        "df['Status'].value_counts()"
      ],
      "execution_count": 11,
      "outputs": [
        {
          "output_type": "execute_result",
          "data": {
            "text/plain": [
              "Active       999\n",
              "Withdrawn    236\n",
              "Name: Status, dtype: int64"
            ]
          },
          "metadata": {},
          "execution_count": 11
        }
      ]
    },
    {
      "cell_type": "code",
      "metadata": {
        "colab": {
          "base_uri": "https://localhost:8080/",
          "height": 350
        },
        "id": "PaIBo3kcsO_0",
        "outputId": "2512e1c4-bfb9-4a00-9ce8-274e8f01c0eb"
      },
      "source": [
        "#Visualize the number of employees that stayed and left the company\n",
        "sns.countplot(df['Status'])"
      ],
      "execution_count": 12,
      "outputs": [
        {
          "output_type": "stream",
          "text": [
            "/usr/local/lib/python3.7/dist-packages/seaborn/_decorators.py:43: FutureWarning: Pass the following variable as a keyword arg: x. From version 0.12, the only valid positional argument will be `data`, and passing other arguments without an explicit keyword will result in an error or misinterpretation.\n",
            "  FutureWarning\n"
          ],
          "name": "stderr"
        },
        {
          "output_type": "execute_result",
          "data": {
            "text/plain": [
              "<matplotlib.axes._subplots.AxesSubplot at 0x7f3a3cc7ca50>"
            ]
          },
          "metadata": {},
          "execution_count": 12
        },
        {
          "output_type": "display_data",
          "data": {
            "image/png": "[encoded data removed]",
            "text/plain": [
              "<Figure size 432x288 with 1 Axes>"
            ]
          },
          "metadata": {
            "needs_background": "light"
          }
        }
      ]
    },
    {
      "cell_type": "code",
      "metadata": {
        "colab": {
          "base_uri": "https://localhost:8080/"
        },
        "id": "7SCJkFMTstqa",
        "outputId": "2e1012fd-e880-42ff-90b6-9ed446812f83"
      },
      "source": [
        "#This is the % if we just guessed no for attrition\n",
        "(1234 - 236) /1234"
      ],
      "execution_count": 13,
      "outputs": [
        {
          "output_type": "execute_result",
          "data": {
            "text/plain": [
              "0.8087520259319287"
            ]
          },
          "metadata": {},
          "execution_count": 13
        }
      ]
    },
    {
      "cell_type": "code",
      "metadata": {
        "colab": {
          "base_uri": "https://localhost:8080/",
          "height": 299
        },
        "id": "TVBKN1xwtH-a",
        "outputId": "a52c6be6-e150-46d5-fc97-38ae9972b645"
      },
      "source": [
        "#Show the number of employees that left and stayed by ages\n",
        "import matplotlib.pyplot as plt\n",
        "plt.subplots(figsize=(12,4))\n",
        "sns.countplot(x='Age', hue='Status', data=df, palette = 'colorblind')\n"
      ],
      "execution_count": 14,
      "outputs": [
        {
          "output_type": "execute_result",
          "data": {
            "text/plain": [
              "<matplotlib.axes._subplots.AxesSubplot at 0x7f3a3cbeabd0>"
            ]
          },
          "metadata": {},
          "execution_count": 14
        },
        {
          "output_type": "display_data",
          "data": {
            "image/png": "[encoded data removed]",
            "text/plain": [
              "<Figure size 864x288 with 1 Axes>"
            ]
          },
          "metadata": {
            "needs_background": "light"
          }
        }
      ]
    },
    {
      "cell_type": "code",
      "metadata": {
        "colab": {
          "base_uri": "https://localhost:8080/"
        },
        "id": "pwLCtK7YuLUF",
        "outputId": "7c460263-3a01-4261-de1b-4c4497e8b665"
      },
      "source": [
        "#Print all of the data types and their unique values\n",
        "for column in df.columns:\n",
        "  if df[column].dtype == object:\n",
        "    print(str(column) + ' : ' + (df[column].unique()))\n",
        "    print(df[column].value_counts())\n",
        "    print('_______________________________________________________________________________________')"
      ],
      "execution_count": 15,
      "outputs": [
        {
          "output_type": "stream",
          "text": [
            "['User : H238709' 'User : HBAO258' 'User : HBAR605' ... 'User : HB41031'\n",
            " 'User : HB44398' 'User : HB45977']\n",
            "H178472    1\n",
            "H244684    1\n",
            "HB52474    1\n",
            "H226305    1\n",
            "H229983    1\n",
            "          ..\n",
            "H183947    1\n",
            "HB89931    1\n",
            "H247486    1\n",
            "H227776    1\n",
            "HB78725    1\n",
            "Name: User, Length: 1235, dtype: int64\n",
            "_______________________________________________________________________________________\n",
            "['Emp_type : Regular employee' 'Emp_type : CommuterOut-Halco'\n",
            " 'Emp_type : Expat-Halco' 'Emp_type : Expat-ShortTerm/Dev']\n",
            "Regular employee       1104\n",
            "CommuterOut-Halco        55\n",
            "Expat-Halco              45\n",
            "Expat-ShortTerm/Dev      31\n",
            "Name: Emp_type, dtype: int64\n",
            "_______________________________________________________________________________________\n",
            "['Gender : Male' 'Gender : Female']\n",
            "Male      1106\n",
            "Female     129\n",
            "Name: Gender, dtype: int64\n",
            "_______________________________________________________________________________________\n",
            "['Department : G' 'Department : C' 'Department : D' 'Department : B'\n",
            " 'Department : A' 'Department : I' 'Department : K' 'Department : H'\n",
            " 'Department : L' 'Department : J' 'Department : N']\n",
            "I    240\n",
            "B    189\n",
            "G    181\n",
            "D    168\n",
            "C    135\n",
            "A     91\n",
            "K     88\n",
            "H     82\n",
            "J     49\n",
            "N      6\n",
            "L      6\n",
            "Name: Department, dtype: int64\n",
            "_______________________________________________________________________________________\n",
            "['Country : India' 'Country : Thailand' 'Country : Brunei'\n",
            " 'Country : Japan' 'Country : Malaysia' 'Country : Myanmar'\n",
            " 'Country : Vietnam' 'Country : Southeast Asia Area Suppt'\n",
            " 'Country : Philippines' 'Country : Singapore' 'Country : South Korea'\n",
            " 'Country : Bangladesh']\n",
            "India                        501\n",
            "Malaysia                     335\n",
            "Thailand                     176\n",
            "Brunei                       139\n",
            "Vietnam                       35\n",
            "Southeast Asia Area Suppt     18\n",
            "Myanmar                        8\n",
            "Bangladesh                     7\n",
            "Japan                          7\n",
            "Philippines                    4\n",
            "South Korea                    4\n",
            "Singapore                      1\n",
            "Name: Country, dtype: int64\n",
            "_______________________________________________________________________________________\n",
            "['Function : Operations' 'Function : Operations Engineering'\n",
            " 'Function : Sales/Marketing' 'Function : Consulting']\n",
            "Operations Engineering    556\n",
            "Operations                554\n",
            "Sales/Marketing            64\n",
            "Consulting                 61\n",
            "Name: Function, dtype: int64\n",
            "_______________________________________________________________________________________\n",
            "['Job_ control_point : F2-ESG' 'Job_ control_point : H2-ESG'\n",
            " 'Job_ control_point : C1-ESG' 'Job_ control_point : E2-ESG'\n",
            " 'Job_ control_point : J3-ESG' 'Job_ control_point : H3-ESG'\n",
            " 'Job_ control_point : D2-ESG' 'Job_ control_point : I2-ESG'\n",
            " 'Job_ control_point : I3-ESG' 'Job_ control_point : LVPE-ESG'\n",
            " 'Job_ control_point : J1-ESG' 'Job_ control_point : C2-ESG'\n",
            " 'Job_ control_point : VPE-ESG' 'Job_ control_point : I1-ESG'\n",
            " 'Job_ control_point : K2-ESG' 'Job_ control_point : G3-ESG'\n",
            " 'Job_ control_point : J2-ESG' 'Job_ control_point : F3-ESG'\n",
            " 'Job_ control_point : K1-ESG' 'Job_ control_point : K3-ESG']\n",
            "VPE-ESG     277\n",
            "G3-ESG      113\n",
            "D2-ESG      110\n",
            "H3-ESG      102\n",
            "C1-ESG       81\n",
            "F3-ESG       81\n",
            "C2-ESG       81\n",
            "E2-ESG       69\n",
            "LVPE-ESG     51\n",
            "I2-ESG       50\n",
            "F2-ESG       47\n",
            "I3-ESG       45\n",
            "H2-ESG       39\n",
            "J1-ESG       31\n",
            "J3-ESG       27\n",
            "J2-ESG       20\n",
            "K2-ESG        7\n",
            "I1-ESG        2\n",
            "K3-ESG        1\n",
            "K1-ESG        1\n",
            "Name: Job_ control_point, dtype: int64\n",
            "_______________________________________________________________________________________\n",
            "['Intern_Asig : No' 'Intern_Asig : Yes']\n",
            "No     774\n",
            "Yes    461\n",
            "Name: Intern_Asig, dtype: int64\n",
            "_______________________________________________________________________________________\n",
            "['Job Code : PF10' 'Job Code : PC11' 'Job Code : PC10' 'Job Code : PS03'\n",
            " 'Job Code : CC06' 'Job Code : PS09' 'Job Code : R453' 'Job Code : CC11'\n",
            " 'Job Code : K941' 'Job Code : PS08' 'Job Code : FF05' 'Job Code : L041'\n",
            " 'Job Code : R454' 'Job Code : LC32' 'Job Code : PE01' 'Job Code : ZZ04'\n",
            " 'Job Code : ZZ10' 'Job Code : PC09' 'Job Code : MV03' 'Job Code : DV01'\n",
            " 'Job Code : SP11' 'Job Code : MV01' 'Job Code : PS11' 'Job Code : L030'\n",
            " 'Job Code : BD13' 'Job Code : R452' 'Job Code : FF26' 'Job Code : CC07'\n",
            " 'Job Code : PS04' 'Job Code : R504' 'Job Code : ZZ09' 'Job Code : K059'\n",
            " 'Job Code : CC04' 'Job Code : PN08' 'Job Code : K942' 'Job Code : R442'\n",
            " 'Job Code : LC31' 'Job Code : BC207' 'Job Code : DV02' 'Job Code : PC08'\n",
            " 'Job Code : PH11' 'Job Code : K740' 'Job Code : ZZ03' 'Job Code : LG135'\n",
            " 'Job Code : K949' 'Job Code : MV04' 'Job Code : ZZ11' 'Job Code : DV03'\n",
            " 'Job Code : BD10' 'Job Code : L031' 'Job Code : R505' 'Job Code : MV02'\n",
            " 'Job Code : PF05' 'Job Code : LG137' 'Job Code : PF04' 'Job Code : CW06'\n",
            " 'Job Code : LG953' 'Job Code : T070' 'Job Code : CW05' 'Job Code : PF14'\n",
            " 'Job Code : PC05' 'Job Code : PF09' 'Job Code : K714' 'Job Code : CC05'\n",
            " 'Job Code : CW07' 'Job Code : CS03' 'Job Code : DV05' 'Job Code : K918'\n",
            " 'Job Code : TT11' 'Job Code : K919' 'Job Code : K950' 'Job Code : PF03'\n",
            " 'Job Code : ZZ08' 'Job Code : CW04' 'Job Code : L032' 'Job Code : SW11'\n",
            " 'Job Code : PP14' 'Job Code : PP10' 'Job Code : K916' 'Job Code : PH10'\n",
            " 'Job Code : LG961' 'Job Code : K961' 'Job Code : PH08' 'Job Code : K056'\n",
            " 'Job Code : TF04' 'Job Code : K940' 'Job Code : K917' 'Job Code : PP15'\n",
            " 'Job Code : K943' 'Job Code : PC15' 'Job Code : TF02' 'Job Code : LG136'\n",
            " 'Job Code : L033' 'Job Code : TU15' 'Job Code : BD14' 'Job Code : TF03'\n",
            " 'Job Code : BD12' 'Job Code : K911' 'Job Code : ZZ18' 'Job Code : LG962'\n",
            " 'Job Code : LG942' 'Job Code : DV04' 'Job Code : BD09' 'Job Code : TG11'\n",
            " 'Job Code : ZZ12' 'Job Code : CC03' 'Job Code : MV05' 'Job Code : PF08'\n",
            " 'Job Code : K901' 'Job Code : L043' 'Job Code : TF01' 'Job Code : BC650'\n",
            " 'Job Code : LG952' 'Job Code : LG951' 'Job Code : K951' 'Job Code : LC30'\n",
            " 'Job Code : SP12' 'Job Code : K058' 'Job Code : K815' 'Job Code : K143'\n",
            " 'Job Code : LP12' 'Job Code : LG954' 'Job Code : BD15' 'Job Code : K909'\n",
            " 'Job Code : K501' 'Job Code : FF19' 'Job Code : ZZ30' 'Job Code : K910'\n",
            " 'Job Code : TF05' 'Job Code : BC652' 'Job Code : K908' 'Job Code : BD08'\n",
            " 'Job Code : LI32' 'Job Code : R503' 'Job Code : K900' 'Job Code : K902'\n",
            " 'Job Code : LG943' 'Job Code : LG941' 'Job Code : LG138'\n",
            " 'Job Code : K903' 'Job Code : LI33' 'Job Code : R474' 'Job Code : K948'\n",
            " 'Job Code : BD30' 'Job Code : SF02' 'Job Code : L042' 'Job Code : TU13'\n",
            " 'Job Code : LC33' 'Job Code : PP08' 'Job Code : LG956' 'Job Code : TS04'\n",
            " 'Job Code : T090' 'Job Code : PP03']\n",
            "MV03     42\n",
            "MV04     39\n",
            "LG137    34\n",
            "PF04     34\n",
            "ZZ09     31\n",
            "         ..\n",
            "BD30      1\n",
            "LI32      1\n",
            "K948      1\n",
            "PP03      1\n",
            "TU13      1\n",
            "Name: Job Code, Length: 153, dtype: int64\n",
            "_______________________________________________________________________________________\n",
            "['Status : Active' 'Status : Withdrawn']\n",
            "Active       999\n",
            "Withdrawn    236\n",
            "Name: Status, dtype: int64\n",
            "_______________________________________________________________________________________\n"
          ],
          "name": "stdout"
        }
      ]
    },
    {
      "cell_type": "code",
      "metadata": {
        "id": "V6NmaU9VvyZy"
      },
      "source": [
        "df = df.drop('User', axis = 1)\n"
      ],
      "execution_count": 16,
      "outputs": []
    },
    {
      "cell_type": "code",
      "metadata": {
        "colab": {
          "base_uri": "https://localhost:8080/",
          "height": 266
        },
        "id": "1doyJEYkzI9-",
        "outputId": "0098728a-84ed-4820-9a3a-c3f3bd0a01d3"
      },
      "source": [
        "df.corr()"
      ],
      "execution_count": 17,
      "outputs": [
        {
          "output_type": "execute_result",
          "data": {
            "text/html": [
              "<div>\n",
              "<style scoped>\n",
              "    .dataframe tbody tr th:only-of-type {\n",
              "        vertical-align: middle;\n",
              "    }\n",
              "\n",
              "    .dataframe tbody tr th {\n",
              "        vertical-align: top;\n",
              "    }\n",
              "\n",
              "    .dataframe thead th {\n",
              "        text-align: right;\n",
              "    }\n",
              "</style>\n",
              "<table border=\"1\" class=\"dataframe\">\n",
              "  <thead>\n",
              "    <tr style=\"text-align: right;\">\n",
              "      <th></th>\n",
              "      <th>Gate</th>\n",
              "      <th>Scale</th>\n",
              "      <th>Promotions</th>\n",
              "      <th>Age</th>\n",
              "      <th>Seniority</th>\n",
              "      <th>Dependents</th>\n",
              "      <th>Comparatio</th>\n",
              "    </tr>\n",
              "  </thead>\n",
              "  <tbody>\n",
              "    <tr>\n",
              "      <th>Gate</th>\n",
              "      <td>1.000000</td>\n",
              "      <td>0.579381</td>\n",
              "      <td>0.357833</td>\n",
              "      <td>0.360149</td>\n",
              "      <td>0.405046</td>\n",
              "      <td>0.249520</td>\n",
              "      <td>0.123859</td>\n",
              "    </tr>\n",
              "    <tr>\n",
              "      <th>Scale</th>\n",
              "      <td>0.579381</td>\n",
              "      <td>1.000000</td>\n",
              "      <td>0.212544</td>\n",
              "      <td>0.135573</td>\n",
              "      <td>0.198222</td>\n",
              "      <td>0.093186</td>\n",
              "      <td>-0.045270</td>\n",
              "    </tr>\n",
              "    <tr>\n",
              "      <th>Promotions</th>\n",
              "      <td>0.357833</td>\n",
              "      <td>0.212544</td>\n",
              "      <td>1.000000</td>\n",
              "      <td>0.023052</td>\n",
              "      <td>0.334594</td>\n",
              "      <td>0.071623</td>\n",
              "      <td>-0.004583</td>\n",
              "    </tr>\n",
              "    <tr>\n",
              "      <th>Age</th>\n",
              "      <td>0.360149</td>\n",
              "      <td>0.135573</td>\n",
              "      <td>0.023052</td>\n",
              "      <td>1.000000</td>\n",
              "      <td>0.482018</td>\n",
              "      <td>0.426733</td>\n",
              "      <td>0.307657</td>\n",
              "    </tr>\n",
              "    <tr>\n",
              "      <th>Seniority</th>\n",
              "      <td>0.405046</td>\n",
              "      <td>0.198222</td>\n",
              "      <td>0.334594</td>\n",
              "      <td>0.482018</td>\n",
              "      <td>1.000000</td>\n",
              "      <td>0.323660</td>\n",
              "      <td>0.217006</td>\n",
              "    </tr>\n",
              "    <tr>\n",
              "      <th>Dependents</th>\n",
              "      <td>0.249520</td>\n",
              "      <td>0.093186</td>\n",
              "      <td>0.071623</td>\n",
              "      <td>0.426733</td>\n",
              "      <td>0.323660</td>\n",
              "      <td>1.000000</td>\n",
              "      <td>0.242878</td>\n",
              "    </tr>\n",
              "    <tr>\n",
              "      <th>Comparatio</th>\n",
              "      <td>0.123859</td>\n",
              "      <td>-0.045270</td>\n",
              "      <td>-0.004583</td>\n",
              "      <td>0.307657</td>\n",
              "      <td>0.217006</td>\n",
              "      <td>0.242878</td>\n",
              "      <td>1.000000</td>\n",
              "    </tr>\n",
              "  </tbody>\n",
              "</table>\n",
              "</div>"
            ],
            "text/plain": [
              "                Gate     Scale  Promotions  ...  Seniority  Dependents  Comparatio\n",
              "Gate        1.000000  0.579381    0.357833  ...   0.405046    0.249520    0.123859\n",
              "Scale       0.579381  1.000000    0.212544  ...   0.198222    0.093186   -0.045270\n",
              "Promotions  0.357833  0.212544    1.000000  ...   0.334594    0.071623   -0.004583\n",
              "Age         0.360149  0.135573    0.023052  ...   0.482018    0.426733    0.307657\n",
              "Seniority   0.405046  0.198222    0.334594  ...   1.000000    0.323660    0.217006\n",
              "Dependents  0.249520  0.093186    0.071623  ...   0.323660    1.000000    0.242878\n",
              "Comparatio  0.123859 -0.045270   -0.004583  ...   0.217006    0.242878    1.000000\n",
              "\n",
              "[7 rows x 7 columns]"
            ]
          },
          "metadata": {},
          "execution_count": 17
        }
      ]
    },
    {
      "cell_type": "code",
      "metadata": {
        "colab": {
          "base_uri": "https://localhost:8080/",
          "height": 830
        },
        "id": "8x4RoHiqzVjb",
        "outputId": "d903343e-d6e7-4567-b79d-43953252c8b7"
      },
      "source": [
        "#Visualize the correlation\n",
        "plt.figure(figsize=(14,14))\n",
        "sns.heatmap(df.corr(), annot=True, fmt= '.0%')"
      ],
      "execution_count": 18,
      "outputs": [
        {
          "output_type": "execute_result",
          "data": {
            "text/plain": [
              "<matplotlib.axes._subplots.AxesSubplot at 0x7f3a3cc93d10>"
            ]
          },
          "metadata": {},
          "execution_count": 18
        },
        {
          "output_type": "display_data",
          "data": {
            "image/png": "[encoded data removed]",
            "text/plain": [
              "<Figure size 1008x1008 with 2 Axes>"
            ]
          },
          "metadata": {
            "needs_background": "light"
          }
        }
      ]
    },
    {
      "cell_type": "code",
      "metadata": {
        "colab": {
          "base_uri": "https://localhost:8080/"
        },
        "id": "TPnmr6ZKzotQ",
        "outputId": "87ac1d8d-7f3e-4c5c-b605-08d94f0c45a4"
      },
      "source": [
        "#transform data\n",
        "#transform non-numerical in numerical col\n",
        "from sklearn.preprocessing import LabelEncoder\n",
        "\n",
        "for column in df.columns:\n",
        "  if df[column].dtype == np.number:\n",
        "    continue\n",
        "  df[column] = LabelEncoder().fit_transform(df[column])"
      ],
      "execution_count": 19,
      "outputs": [
        {
          "output_type": "stream",
          "text": [
            "/usr/local/lib/python3.7/dist-packages/ipykernel_launcher.py:6: DeprecationWarning: Converting `np.inexact` or `np.floating` to a dtype is deprecated. The current result is `float64` which is not strictly correct.\n",
            "  \n"
          ],
          "name": "stderr"
        }
      ]
    },
    {
      "cell_type": "code",
      "metadata": {
        "colab": {
          "base_uri": "https://localhost:8080/",
          "height": 436
        },
        "id": "Svd7GsAM1pPR",
        "outputId": "8badab9b-cacb-4808-fe6f-0961d9c3535f"
      },
      "source": [
        "df"
      ],
      "execution_count": 20,
      "outputs": [
        {
          "output_type": "execute_result",
          "data": {
            "text/html": [
              "<div>\n",
              "<style scoped>\n",
              "    .dataframe tbody tr th:only-of-type {\n",
              "        vertical-align: middle;\n",
              "    }\n",
              "\n",
              "    .dataframe tbody tr th {\n",
              "        vertical-align: top;\n",
              "    }\n",
              "\n",
              "    .dataframe thead th {\n",
              "        text-align: right;\n",
              "    }\n",
              "</style>\n",
              "<table border=\"1\" class=\"dataframe\">\n",
              "  <thead>\n",
              "    <tr style=\"text-align: right;\">\n",
              "      <th></th>\n",
              "      <th>Emp_type</th>\n",
              "      <th>Gate</th>\n",
              "      <th>Gender</th>\n",
              "      <th>Department</th>\n",
              "      <th>Country</th>\n",
              "      <th>Function</th>\n",
              "      <th>Job_ control_point</th>\n",
              "      <th>Scale</th>\n",
              "      <th>Promotions</th>\n",
              "      <th>Intern_Asig</th>\n",
              "      <th>Age</th>\n",
              "      <th>Seniority</th>\n",
              "      <th>Dependents</th>\n",
              "      <th>Job Code</th>\n",
              "      <th>Comparatio</th>\n",
              "      <th>Status</th>\n",
              "    </tr>\n",
              "  </thead>\n",
              "  <tbody>\n",
              "    <tr>\n",
              "      <th>0</th>\n",
              "      <td>3</td>\n",
              "      <td>1</td>\n",
              "      <td>1</td>\n",
              "      <td>4</td>\n",
              "      <td>2</td>\n",
              "      <td>1</td>\n",
              "      <td>4</td>\n",
              "      <td>4</td>\n",
              "      <td>0</td>\n",
              "      <td>0</td>\n",
              "      <td>33</td>\n",
              "      <td>1</td>\n",
              "      <td>4</td>\n",
              "      <td>104</td>\n",
              "      <td>1.155543</td>\n",
              "      <td>0</td>\n",
              "    </tr>\n",
              "    <tr>\n",
              "      <th>1</th>\n",
              "      <td>3</td>\n",
              "      <td>1</td>\n",
              "      <td>1</td>\n",
              "      <td>2</td>\n",
              "      <td>10</td>\n",
              "      <td>1</td>\n",
              "      <td>7</td>\n",
              "      <td>8</td>\n",
              "      <td>1</td>\n",
              "      <td>0</td>\n",
              "      <td>26</td>\n",
              "      <td>26</td>\n",
              "      <td>1</td>\n",
              "      <td>96</td>\n",
              "      <td>1.212336</td>\n",
              "      <td>0</td>\n",
              "    </tr>\n",
              "    <tr>\n",
              "      <th>2</th>\n",
              "      <td>0</td>\n",
              "      <td>1</td>\n",
              "      <td>1</td>\n",
              "      <td>2</td>\n",
              "      <td>1</td>\n",
              "      <td>1</td>\n",
              "      <td>4</td>\n",
              "      <td>4</td>\n",
              "      <td>2</td>\n",
              "      <td>1</td>\n",
              "      <td>26</td>\n",
              "      <td>24</td>\n",
              "      <td>0</td>\n",
              "      <td>95</td>\n",
              "      <td>0.702072</td>\n",
              "      <td>0</td>\n",
              "    </tr>\n",
              "    <tr>\n",
              "      <th>3</th>\n",
              "      <td>3</td>\n",
              "      <td>0</td>\n",
              "      <td>1</td>\n",
              "      <td>4</td>\n",
              "      <td>1</td>\n",
              "      <td>1</td>\n",
              "      <td>0</td>\n",
              "      <td>0</td>\n",
              "      <td>0</td>\n",
              "      <td>1</td>\n",
              "      <td>26</td>\n",
              "      <td>27</td>\n",
              "      <td>0</td>\n",
              "      <td>115</td>\n",
              "      <td>1.366488</td>\n",
              "      <td>0</td>\n",
              "    </tr>\n",
              "    <tr>\n",
              "      <th>4</th>\n",
              "      <td>3</td>\n",
              "      <td>1</td>\n",
              "      <td>1</td>\n",
              "      <td>3</td>\n",
              "      <td>1</td>\n",
              "      <td>1</td>\n",
              "      <td>3</td>\n",
              "      <td>3</td>\n",
              "      <td>0</td>\n",
              "      <td>1</td>\n",
              "      <td>27</td>\n",
              "      <td>25</td>\n",
              "      <td>4</td>\n",
              "      <td>14</td>\n",
              "      <td>1.276654</td>\n",
              "      <td>0</td>\n",
              "    </tr>\n",
              "    <tr>\n",
              "      <th>...</th>\n",
              "      <td>...</td>\n",
              "      <td>...</td>\n",
              "      <td>...</td>\n",
              "      <td>...</td>\n",
              "      <td>...</td>\n",
              "      <td>...</td>\n",
              "      <td>...</td>\n",
              "      <td>...</td>\n",
              "      <td>...</td>\n",
              "      <td>...</td>\n",
              "      <td>...</td>\n",
              "      <td>...</td>\n",
              "      <td>...</td>\n",
              "      <td>...</td>\n",
              "      <td>...</td>\n",
              "      <td>...</td>\n",
              "    </tr>\n",
              "    <tr>\n",
              "      <th>1230</th>\n",
              "      <td>3</td>\n",
              "      <td>1</td>\n",
              "      <td>1</td>\n",
              "      <td>4</td>\n",
              "      <td>2</td>\n",
              "      <td>1</td>\n",
              "      <td>2</td>\n",
              "      <td>2</td>\n",
              "      <td>3</td>\n",
              "      <td>1</td>\n",
              "      <td>10</td>\n",
              "      <td>9</td>\n",
              "      <td>1</td>\n",
              "      <td>101</td>\n",
              "      <td>0.805578</td>\n",
              "      <td>1</td>\n",
              "    </tr>\n",
              "    <tr>\n",
              "      <th>1231</th>\n",
              "      <td>3</td>\n",
              "      <td>0</td>\n",
              "      <td>1</td>\n",
              "      <td>4</td>\n",
              "      <td>10</td>\n",
              "      <td>1</td>\n",
              "      <td>0</td>\n",
              "      <td>0</td>\n",
              "      <td>3</td>\n",
              "      <td>1</td>\n",
              "      <td>19</td>\n",
              "      <td>9</td>\n",
              "      <td>3</td>\n",
              "      <td>115</td>\n",
              "      <td>1.064711</td>\n",
              "      <td>1</td>\n",
              "    </tr>\n",
              "    <tr>\n",
              "      <th>1232</th>\n",
              "      <td>3</td>\n",
              "      <td>1</td>\n",
              "      <td>1</td>\n",
              "      <td>2</td>\n",
              "      <td>2</td>\n",
              "      <td>1</td>\n",
              "      <td>3</td>\n",
              "      <td>3</td>\n",
              "      <td>4</td>\n",
              "      <td>0</td>\n",
              "      <td>15</td>\n",
              "      <td>9</td>\n",
              "      <td>0</td>\n",
              "      <td>94</td>\n",
              "      <td>1.096737</td>\n",
              "      <td>1</td>\n",
              "    </tr>\n",
              "    <tr>\n",
              "      <th>1233</th>\n",
              "      <td>3</td>\n",
              "      <td>1</td>\n",
              "      <td>1</td>\n",
              "      <td>2</td>\n",
              "      <td>2</td>\n",
              "      <td>1</td>\n",
              "      <td>4</td>\n",
              "      <td>4</td>\n",
              "      <td>4</td>\n",
              "      <td>1</td>\n",
              "      <td>12</td>\n",
              "      <td>9</td>\n",
              "      <td>0</td>\n",
              "      <td>95</td>\n",
              "      <td>1.057486</td>\n",
              "      <td>1</td>\n",
              "    </tr>\n",
              "    <tr>\n",
              "      <th>1234</th>\n",
              "      <td>3</td>\n",
              "      <td>0</td>\n",
              "      <td>1</td>\n",
              "      <td>4</td>\n",
              "      <td>2</td>\n",
              "      <td>1</td>\n",
              "      <td>1</td>\n",
              "      <td>1</td>\n",
              "      <td>4</td>\n",
              "      <td>1</td>\n",
              "      <td>11</td>\n",
              "      <td>9</td>\n",
              "      <td>0</td>\n",
              "      <td>100</td>\n",
              "      <td>0.854018</td>\n",
              "      <td>1</td>\n",
              "    </tr>\n",
              "  </tbody>\n",
              "</table>\n",
              "<p>1235 rows × 16 columns</p>\n",
              "</div>"
            ],
            "text/plain": [
              "      Emp_type  Gate  Gender  ...  Job Code  Comparatio  Status\n",
              "0            3     1       1  ...       104    1.155543       0\n",
              "1            3     1       1  ...        96    1.212336       0\n",
              "2            0     1       1  ...        95    0.702072       0\n",
              "3            3     0       1  ...       115    1.366488       0\n",
              "4            3     1       1  ...        14    1.276654       0\n",
              "...        ...   ...     ...  ...       ...         ...     ...\n",
              "1230         3     1       1  ...       101    0.805578       1\n",
              "1231         3     0       1  ...       115    1.064711       1\n",
              "1232         3     1       1  ...        94    1.096737       1\n",
              "1233         3     1       1  ...        95    1.057486       1\n",
              "1234         3     0       1  ...       100    0.854018       1\n",
              "\n",
              "[1235 rows x 16 columns]"
            ]
          },
          "metadata": {},
          "execution_count": 20
        }
      ]
    },
    {
      "cell_type": "code",
      "metadata": {
        "id": "I4zbndFm2CzQ"
      },
      "source": [
        "#Split the data \n",
        "X = df.iloc[:, 1:df.shape[1]].values\n",
        "Y = df.iloc[:, 0].values"
      ],
      "execution_count": 21,
      "outputs": []
    },
    {
      "cell_type": "code",
      "metadata": {
        "id": "Wg57JsBu3wAs"
      },
      "source": [
        "#Split the data into 75% training and 25% testing\n",
        "from sklearn.model_selection import train_test_split\n",
        "X_train, X_test, Y_train, Y_test = train_test_split(X, Y, test_size = 0.25, random_state = 0)"
      ],
      "execution_count": 22,
      "outputs": []
    },
    {
      "cell_type": "code",
      "metadata": {
        "colab": {
          "base_uri": "https://localhost:8080/"
        },
        "id": "J5yq8_DK4NGe",
        "outputId": "0bc22950-42ab-46bd-de11-4dc88d7854f5"
      },
      "source": [
        "from sklearn.ensemble import RandomForestClassifier\n",
        "forest = RandomForestClassifier(n_estimators= 10, criterion = 'entropy', random_state = 0)\n",
        "forest.fit(X_train, Y_train)"
      ],
      "execution_count": 23,
      "outputs": [
        {
          "output_type": "execute_result",
          "data": {
            "text/plain": [
              "RandomForestClassifier(bootstrap=True, ccp_alpha=0.0, class_weight=None,\n",
              "                       criterion='entropy', max_depth=None, max_features='auto',\n",
              "                       max_leaf_nodes=None, max_samples=None,\n",
              "                       min_impurity_decrease=0.0, min_impurity_split=None,\n",
              "                       min_samples_leaf=1, min_samples_split=2,\n",
              "                       min_weight_fraction_leaf=0.0, n_estimators=10,\n",
              "                       n_jobs=None, oob_score=False, random_state=0, verbose=0,\n",
              "                       warm_start=False)"
            ]
          },
          "metadata": {},
          "execution_count": 23
        }
      ]
    },
    {
      "cell_type": "code",
      "metadata": {
        "colab": {
          "base_uri": "https://localhost:8080/"
        },
        "id": "gZO0Fwfa4mm7",
        "outputId": "96f03059-4c5d-4c73-80a1-8648b670104c"
      },
      "source": [
        "#Get the accurancy on the training data set\n",
        "forest.score(X_train, Y_train)"
      ],
      "execution_count": 24,
      "outputs": [
        {
          "output_type": "execute_result",
          "data": {
            "text/plain": [
              "0.9935205183585313"
            ]
          },
          "metadata": {},
          "execution_count": 24
        }
      ]
    },
    {
      "cell_type": "code",
      "metadata": {
        "colab": {
          "base_uri": "https://localhost:8080/"
        },
        "id": "M3oZf4-n429I",
        "outputId": "143722c5-d10d-4e3b-8dbf-5f80ab67a2d4"
      },
      "source": [
        "# Show the confusion matriz and accuracy score for the model on the test data\n",
        "from sklearn.metrics import confusion_matrix\n",
        "\n",
        "cm = confusion_matrix(Y_test, forest.predict(X_test))\n",
        "\n",
        "TN = cm[0][0]\n",
        "TP = cm[1][1]\n",
        "FN = cm[1][0]\n",
        "FP = cm[0][1]\n",
        "\n",
        "print(cm)\n",
        "print('Model Testing Accuracy = {}'.format( (TP + TN) / (TP + TN + FN + FP) ))"
      ],
      "execution_count": 25,
      "outputs": [
        {
          "output_type": "stream",
          "text": [
            "[[  6   0   0   7]\n",
            " [  4   5   0   3]\n",
            " [  1   0   1   6]\n",
            " [  0   0   3 273]]\n",
            "Model Testing Accuracy = 0.7333333333333333\n"
          ],
          "name": "stdout"
        }
      ]
    }
  ]
}